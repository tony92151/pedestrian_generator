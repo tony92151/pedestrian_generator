{
 "cells": [
  {
   "cell_type": "code",
   "execution_count": 2,
   "metadata": {},
   "outputs": [],
   "source": [
    "import matplotlib.pyplot as plt\n",
    "from PIL import Image\n",
    "import numpy as np\n",
    "import json\n",
    "import os\n",
    "import random\n",
    "import glob\n",
    "#from detectron_pro import detectron_mask_img,detectron_mask_img_composite\n",
    "import shutil\n",
    "import cv2"
   ]
  },
  {
   "cell_type": "code",
   "execution_count": 3,
   "metadata": {},
   "outputs": [],
   "source": [
    "\n",
    "# to get location that stickimg will sticked on jpg_dir center or random\n",
    "def center_location(jpg_dir,stickimg_dir):\n",
    "    im = np.array(Image.open(jpg_dir), dtype=np.uint8)\n",
    "    x_center,y_center = im.shape[1]/2,im.shape[0]/2\n",
    "    im_stick = np.array(Image.open(stickimg_dir), dtype=np.uint8)\n",
    "    im_stick_shape = im_stick.shape\n",
    "    bd_box_x,bd_box_y = x_center-(im_stick_shape[1]/2),y_center-(im_stick_shape[0]/2)\n",
    "    bd_box_length,bd_box_height =im_stick_shape[1],im_stick_shape[0]\n",
    "    return bd_box_x,bd_box_y,bd_box_length,bd_box_height\n",
    "\n",
    "def random_location(jpg_dir,stickimg_dir):\n",
    "    im = np.array(Image.open(jpg_dir), dtype=np.uint8)\n",
    "    # x boundary\n",
    "    rangeX = 128\n",
    "    x_left_bound,x_right_bound = rangeX, im.shape[1]-rangeX\n",
    "    x_center = random.randrange(x_left_bound, x_right_bound)\n",
    "    seq = [350,300,250,200]\n",
    "    y_center = random.choice(seq)\n",
    "    i_shape1 = [128,64]\n",
    "    i_shape2 = [128*7/8,64*7/8]\n",
    "    i_shape3 = [128*3/4,64*3/4]\n",
    "    i_shape4 = [128*2/4,64*2/4]\n",
    "    dict = {350:i_shape1,300:i_shape2 ,250:i_shape3,200:i_shape4}\n",
    "    image_shape = dict[y_center]\n",
    "    bd_box_x,bd_box_y = x_center-(image_shape[1]/2),y_center-(image_shape[0]/2)\n",
    "    bd_box_length,bd_box_height =image_shape[1],image_shape[0]\n",
    "    return bd_box_x,bd_box_y,bd_box_length,bd_box_height"
   ]
  },
  {
   "cell_type": "code",
   "execution_count": 4,
   "metadata": {},
   "outputs": [],
   "source": [
    "#it can generate json file defined by your street_jpg and people_jpg \n",
    "\n",
    "def create_json_file(jpg_dir,street_json,stickimg_dir,results_dir,function='center'):\n",
    "    if function == 'center':\n",
    "        bd_box_x,bd_box_y,bd_box_length,bd_box_height = center_location(jpg_dir,stickimg_dir)\n",
    "    elif function == 'random':\n",
    "        bd_box_x,bd_box_y,bd_box_length,bd_box_height = random_location(jpg_dir,stickimg_dir)\n",
    "        \n",
    "    input_file = open (street_json)\n",
    "    json_array = json.load(input_file)\n",
    "    \n",
    "    data = []\n",
    "    data.append({\n",
    "    'end':0,\n",
    "    'hide':0,\n",
    "    'id':0,\n",
    "    'init':0,\n",
    "    'lbl':\"person\",\n",
    "    'lock':0,\n",
    "    'occl':0,\n",
    "    'pos':[\n",
    "    bd_box_x,\n",
    "    bd_box_y,\n",
    "    bd_box_length,\n",
    "    bd_box_height],    \n",
    "    'posv':[\n",
    "    0,\n",
    "    0,\n",
    "    0,\n",
    "    0],\n",
    "    'str':0\n",
    "                })\n",
    "    \n",
    "    if json_array != []:\n",
    "        for item in json_array:\n",
    "            data.append(item)\n",
    "            \n",
    "    with open(results_dir, 'w') as outfile:\n",
    "        json.dump(data, outfile)"
   ]
  },
  {
   "cell_type": "markdown",
   "metadata": {},
   "source": [
    "# Start create"
   ]
  },
  {
   "cell_type": "code",
   "execution_count": 5,
   "metadata": {},
   "outputs": [],
   "source": [
    "# Image read dir\n",
    "street_dir = '/root/notebooks/0858611-2/final_project/caltech_pedestrian_extractor/video_extractor/*'\n",
    "\n",
    "people_dir = '/root/notebooks/0858611-2/final_project/caltech_pedestrian_extractor/js_on_image/people_img/Market-1501-v15.09.15'\n",
    "\n",
    "# Image save dir\n",
    "save_dir = '/root/notebooks/0858611-2/final_project/caltech_pedestrian_extractor/0603_result'\n",
    "\n",
    "num_imgs = 10"
   ]
  },
  {
   "cell_type": "code",
   "execution_count": null,
   "metadata": {},
   "outputs": [],
   "source": [
    "# Check dir folder exit\n",
    "# If not, create one\n",
    "if os.path.exists(save_dir) == False:\n",
    "    os.makedirs(save_dir)\n",
    "\n",
    "for s in ['people', 'mask', 'street', 'street_json','json']:\n",
    "    if os.path.exists(os.path.join(save_dir, s)) == False:\n",
    "        os.makedirs(os.path.join(save_dir, s))"
   ]
  },
  {
   "cell_type": "code",
   "execution_count": null,
   "metadata": {},
   "outputs": [],
   "source": [
    "street_imgs = glob.glob(street_dir+'/**/*.jpg', recursive=True)\n",
    "\n",
    "#street_imgs = random.shuffle(random.sample(street_imgs, 5000))\n",
    "street_imgs = random.sample(street_imgs, num_imgs)\n",
    "\n",
    "random.shuffle(street_imgs)"
   ]
  },
  {
   "cell_type": "code",
   "execution_count": null,
   "metadata": {},
   "outputs": [],
   "source": [
    "people_imgs = glob.glob(people_dir+'/bounding_box_train/*.jpg', recursive=True)\n",
    "\n",
    "people_imgs = random.sample(people_imgs, num_imgs)\n",
    "\n",
    "random.shuffle(people_imgs)"
   ]
  },
  {
   "cell_type": "code",
   "execution_count": null,
   "metadata": {},
   "outputs": [],
   "source": [
    "for i in range(num_imgs):\n",
    "    \n",
    "    if (i%100==0):\n",
    "        print(\"Process (\",i,\"/\",num_imgs,\")  \",\"{:.2f}\".format(100*i/num_imgs),\" %\")\n",
    "    \n",
    "    # create mask and save\n",
    "    try:\n",
    "        mask_img = detectron_mask_img(people_imgs[i],(64,128))\n",
    "        mask_img = Image.fromarray(mask_img)\n",
    "    except Exception as e:\n",
    "        print(\"Skip image :\",i)\n",
    "        continue\n",
    "        \n",
    "    mask_img.save(save_dir+'/mask/'+str('{0:06}'.format(i))+'.jpg')\n",
    "    \n",
    "    # save street img\n",
    "    street_img = cv2.imread(street_imgs[i])\n",
    "    street_img = cv2.resize(street_img,(640,480))\n",
    "    cv2.imwrite(save_dir+'/street/'+str('{0:06}'.format(i))+'.jpg', street_img)\n",
    "    \n",
    "    ################################################################\n",
    "    img_path = street_imgs[i]\n",
    "    json_dir = img_path.replace('images', 'annotations')\n",
    "    json_dir = json_dir.replace('jpg', 'json')\n",
    "    shutil.copyfile(json_dir, save_dir+'/street_json/'+str('{0:06}'.format(count))+'.json')\n",
    "    ################################################################\n",
    "    \n",
    "    # save poeple img\n",
    "    people_img = cv2.imread(people_imgs[i])\n",
    "    people_img = cv2.resize(people_img,(64,128))\n",
    "    cv2.imwrite(save_dir+'/people/'+str('{0:06}'.format(i))+'.jpg', people_img)\n",
    "    \n",
    "    # create json file and save\n",
    "    create_json_file(save_dir+'/street/'+str('{0:06}'.format(i))+'.jpg',\n",
    "                     save_dir+'/street_json/'+str('{0:06}'.format(i))+'.json',\n",
    "                     save_dir+'/people/'+str('{0:06}'.format(i))+'.jpg',\n",
    "                     save_dir+'/json/'+str('{0:06}'.format(i))+'.json',\n",
    "                     function=\"random\")"
   ]
  },
  {
   "cell_type": "code",
   "execution_count": null,
   "metadata": {},
   "outputs": [],
   "source": []
  },
  {
   "cell_type": "code",
   "execution_count": null,
   "metadata": {},
   "outputs": [],
   "source": [
    "import json\n",
    "\n",
    "json_path = '/root/notebooks/0858611-2/final_project/caltech_pedestrian_extractor/video_extractor/set00/V009/annotations/I00018.json'\n",
    "\n",
    "input_file = open (json_path)\n",
    "json_array = json.load(input_file)"
   ]
  },
  {
   "cell_type": "code",
   "execution_count": null,
   "metadata": {},
   "outputs": [],
   "source": [
    "json_array\n",
    "print(type(json_array[0]))"
   ]
  },
  {
   "cell_type": "code",
   "execution_count": null,
   "metadata": {},
   "outputs": [],
   "source": []
  }
 ],
 "metadata": {
  "kernelspec": {
   "display_name": "Python 3",
   "language": "python",
   "name": "python3"
  },
  "language_info": {
   "codemirror_mode": {
    "name": "ipython",
    "version": 3
   },
   "file_extension": ".py",
   "mimetype": "text/x-python",
   "name": "python",
   "nbconvert_exporter": "python",
   "pygments_lexer": "ipython3",
   "version": "3.6.7"
  },
  "widgets": {
   "application/vnd.jupyter.widget-state+json": {
    "state": {},
    "version_major": 2,
    "version_minor": 0
   }
  }
 },
 "nbformat": 4,
 "nbformat_minor": 4
}
