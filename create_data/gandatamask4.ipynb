{
 "cells": [
  {
   "cell_type": "code",
   "execution_count": 1,
   "metadata": {},
   "outputs": [],
   "source": [
    "import matplotlib.pyplot as plt\n",
    "from PIL import Image\n",
    "import numpy as np\n",
    "import json\n",
    "import os\n",
    "import random\n",
    "import glob\n",
    "# from detectron_pro import detectron_mask_img,detectron_mask_img_composite\n",
    "import shutil\n",
    "import cv2\n",
    "\n",
    "import random"
   ]
  },
  {
   "cell_type": "code",
   "execution_count": 2,
   "metadata": {},
   "outputs": [],
   "source": [
    "\n",
    "# to get location that stickimg will sticked on jpg_dir center or random\n",
    "def center_location(jpg_dir,stickimg_dir):\n",
    "    im = np.array(Image.open(jpg_dir), dtype=np.uint8)\n",
    "    x_center,y_center = im.shape[1]/2,im.shape[0]/2\n",
    "    im_stick = np.array(Image.open(stickimg_dir), dtype=np.uint8)\n",
    "    im_stick_shape = im_stick.shape\n",
    "    bd_box_x,bd_box_y = x_center-(im_stick_shape[1]/2),y_center-(im_stick_shape[0]/2)\n",
    "    bd_box_length,bd_box_height =im_stick_shape[1],im_stick_shape[0]\n",
    "    return bd_box_x,bd_box_y,bd_box_length,bd_box_height\n",
    "\n",
    "def random_location(jpg_dir,stickimg_dir):\n",
    "    im = np.array(Image.open(jpg_dir), dtype=np.uint8)\n",
    "    # x boundary\n",
    "    #rangeX = 400\n",
    "    #x_left_bound,x_right_bound = rangeX, im.shape[1]-rangeX\n",
    "    x_left_bound,x_right_bound = 128,512\n",
    "    x_center = random.randrange(x_left_bound, x_right_bound)\n",
    "    seq = [320,280,240,220,200,190,180,175]\n",
    "    y_center = random.choice(seq)\n",
    "    i_shape1 = [240,120]\n",
    "    i_shape2 = [160,80]\n",
    "    i_shape3 = [128,64]\n",
    "    i_shape4 = [108,54]\n",
    "    i_shape5 = [96,48]\n",
    "    i_shape6 = [72,36]\n",
    "    i_shape7 = [60,30]\n",
    "    i_shape8 = [56,28]\n",
    "    dict = {320:i_shape1,280:i_shape2 ,240:i_shape3,220:i_shape4,200:i_shape5,190:i_shape6,180:i_shape7,175:i_shape8}\n",
    "    image_shape = dict[y_center]\n",
    "    bd_box_x,bd_box_y = x_center-(image_shape[1]/2),y_center-(image_shape[0]/2)\n",
    "    bd_box_length,bd_box_height =image_shape[1],image_shape[0]\n",
    "    return bd_box_x,bd_box_y,bd_box_length,bd_box_height\n",
    "\n",
    "\n",
    "#h_list = [200,220,240,296,352] # from top to buttom (center of people image)\n",
    "#h_scale = [(48,96),(54,108),(64,128),(80,160),(120,240)] # top might be smaller"
   ]
  },
  {
   "cell_type": "code",
   "execution_count": 8,
   "metadata": {},
   "outputs": [],
   "source": [
    "#it can generate json file defined by your street_jpg and people_jpg \n",
    "\n",
    "def create_json_file(jpg_dir,street_json,stickimg_dir,results_dir,function='center'):\n",
    "    if function == 'center':\n",
    "        bd_box_x,bd_box_y,bd_box_length,bd_box_height = center_location(jpg_dir,stickimg_dir)\n",
    "    elif function == 'random':\n",
    "        bd_box_x,bd_box_y,bd_box_length,bd_box_height = random_location(jpg_dir,stickimg_dir)\n",
    "        \n",
    "    input_file = open (street_json)\n",
    "    json_array = json.load(input_file)\n",
    "    \n",
    "    data = []\n",
    "    data.append({\n",
    "    'end':0,\n",
    "    'hide':0,\n",
    "    'id':0,\n",
    "    'init':0,\n",
    "    'lbl':\"pasted_person\",\n",
    "    'lock':0,\n",
    "    'occl':0,\n",
    "    'pos':[\n",
    "    bd_box_x,\n",
    "    bd_box_y,\n",
    "    bd_box_length,\n",
    "    bd_box_height],    \n",
    "    'posv':[\n",
    "    0,\n",
    "    0,\n",
    "    0,\n",
    "    0],\n",
    "    'str':0\n",
    "                })\n",
    "    \n",
    "    if json_array != []:\n",
    "        for item in json_array:\n",
    "            data.append(item)\n",
    "            \n",
    "    with open(results_dir, 'w') as outfile:\n",
    "        json.dump(data, outfile)"
   ]
  },
  {
   "cell_type": "markdown",
   "metadata": {},
   "source": [
    "# Start create"
   ]
  },
  {
   "cell_type": "code",
   "execution_count": 9,
   "metadata": {},
   "outputs": [],
   "source": [
    "origin_data_dir = '/root/notebooks/final/caltech_pedestrian_refine_no'"
   ]
  },
  {
   "cell_type": "code",
   "execution_count": 10,
   "metadata": {},
   "outputs": [],
   "source": [
    "img_data = glob.glob(origin_data_dir+'/street/*.jpg', recursive=True)\n",
    "\n",
    "json_data = glob.glob(origin_data_dir+'/street_json/*.json', recursive=True)"
   ]
  },
  {
   "cell_type": "code",
   "execution_count": 11,
   "metadata": {},
   "outputs": [
    {
     "data": {
      "text/plain": [
       "['/root/notebooks/final/caltech_pedestrian_refine_no/street/013258.jpg',\n",
       " '/root/notebooks/final/caltech_pedestrian_refine_no/street/013259.jpg',\n",
       " '/root/notebooks/final/caltech_pedestrian_refine_no/street/013260.jpg',\n",
       " '/root/notebooks/final/caltech_pedestrian_refine_no/street/013261.jpg',\n",
       " '/root/notebooks/final/caltech_pedestrian_refine_no/street/013262.jpg',\n",
       " '/root/notebooks/final/caltech_pedestrian_refine_no/street/013263.jpg',\n",
       " '/root/notebooks/final/caltech_pedestrian_refine_no/street/013264.jpg',\n",
       " '/root/notebooks/final/caltech_pedestrian_refine_no/street/013265.jpg',\n",
       " '/root/notebooks/final/caltech_pedestrian_refine_no/street/013266.jpg',\n",
       " '/root/notebooks/final/caltech_pedestrian_refine_no/street/013267.jpg']"
      ]
     },
     "execution_count": 11,
     "metadata": {},
     "output_type": "execute_result"
    }
   ],
   "source": [
    "img_data[:10]"
   ]
  },
  {
   "cell_type": "code",
   "execution_count": 12,
   "metadata": {},
   "outputs": [
    {
     "data": {
      "text/plain": [
       "['/root/notebooks/final/caltech_pedestrian_refine_no/street_json/013258.json',\n",
       " '/root/notebooks/final/caltech_pedestrian_refine_no/street_json/013259.json',\n",
       " '/root/notebooks/final/caltech_pedestrian_refine_no/street_json/013260.json',\n",
       " '/root/notebooks/final/caltech_pedestrian_refine_no/street_json/013261.json',\n",
       " '/root/notebooks/final/caltech_pedestrian_refine_no/street_json/013262.json',\n",
       " '/root/notebooks/final/caltech_pedestrian_refine_no/street_json/013263.json',\n",
       " '/root/notebooks/final/caltech_pedestrian_refine_no/street_json/013264.json',\n",
       " '/root/notebooks/final/caltech_pedestrian_refine_no/street_json/013265.json',\n",
       " '/root/notebooks/final/caltech_pedestrian_refine_no/street_json/013266.json',\n",
       " '/root/notebooks/final/caltech_pedestrian_refine_no/street_json/013267.json']"
      ]
     },
     "execution_count": 12,
     "metadata": {},
     "output_type": "execute_result"
    }
   ],
   "source": [
    "json_data[:10]"
   ]
  },
  {
   "cell_type": "code",
   "execution_count": 13,
   "metadata": {},
   "outputs": [],
   "source": [
    "# Image read dir\n",
    "street_dir = '/root/notebooks/0858611-2/final_project/caltech_pedestrian_extractor/video_extractor/*'\n",
    "\n",
    "people_dir = '/root/notebooks/final/market_mask2'\n",
    "\n",
    "# Image save dir\n",
    "save_dir = '/root/notebooks/final/result_dataset_9'\n",
    "\n",
    "num_imgs = 10000"
   ]
  },
  {
   "cell_type": "code",
   "execution_count": 14,
   "metadata": {},
   "outputs": [],
   "source": [
    "# Check dir folder exit\n",
    "# If not, create one\n",
    "if os.path.exists(save_dir) == False:\n",
    "    os.makedirs(save_dir)\n",
    "\n",
    "for s in ['people', 'mask', 'street', 'street_json','json']:\n",
    "    if os.path.exists(os.path.join(save_dir, s)) == False:\n",
    "        os.makedirs(os.path.join(save_dir, s))"
   ]
  },
  {
   "cell_type": "code",
   "execution_count": 15,
   "metadata": {},
   "outputs": [],
   "source": [
    "#street_imgs = glob.glob(street_dir+'/**/*.jpg', recursive=True)\n",
    "street_imgs = img_data\n",
    "\n",
    "#street_imgs = random.shuffle(random.sample(street_imgs, 5000))\n",
    "street_imgs = random.sample(street_imgs, num_imgs)\n",
    "\n",
    "random.shuffle(street_imgs)"
   ]
  },
  {
   "cell_type": "code",
   "execution_count": 16,
   "metadata": {},
   "outputs": [],
   "source": [
    "#people_imgs_ = glob.glob(people_dir+'/people/*.jpg', recursive=True)\n",
    "\n",
    "mask_imgs_ = glob.glob(people_dir+'/market_mask_refine_6467/*.jpg', recursive=True)\n",
    "\n",
    "people_imgs_ = [i.replace('market_mask_refine_6467', 'people') for i in mask_imgs_]\n",
    "\n",
    "#mask_imgs_ = [i.replace('people', 'mask') for i in people_imgs_]\n",
    "\n",
    "#people_imgs = random.sample(people_imgs, num_imgs)\n",
    "\n",
    "r_t_imgs = []\n",
    "r_m_imgs = []"
   ]
  },
  {
   "cell_type": "code",
   "execution_count": 19,
   "metadata": {},
   "outputs": [
    {
     "data": {
      "text/plain": [
       "['/root/notebooks/final/market_mask2/market_mask_refine_6467/003301.jpg',\n",
       " '/root/notebooks/final/market_mask2/market_mask_refine_6467/013112.jpg',\n",
       " '/root/notebooks/final/market_mask2/market_mask_refine_6467/001516.jpg',\n",
       " '/root/notebooks/final/market_mask2/market_mask_refine_6467/011705.jpg',\n",
       " '/root/notebooks/final/market_mask2/market_mask_refine_6467/011063.jpg',\n",
       " '/root/notebooks/final/market_mask2/market_mask_refine_6467/001270.jpg',\n",
       " '/root/notebooks/final/market_mask2/market_mask_refine_6467/002779.jpg',\n",
       " '/root/notebooks/final/market_mask2/market_mask_refine_6467/013674.jpg',\n",
       " '/root/notebooks/final/market_mask2/market_mask_refine_6467/013660.jpg',\n",
       " '/root/notebooks/final/market_mask2/market_mask_refine_6467/010369.jpg']"
      ]
     },
     "execution_count": 19,
     "metadata": {},
     "output_type": "execute_result"
    }
   ],
   "source": [
    "mask_imgs_[:10]"
   ]
  },
  {
   "cell_type": "code",
   "execution_count": 20,
   "metadata": {},
   "outputs": [],
   "source": [
    "# for i in range(len(people_imgs_)):\n",
    "#     if (i%1000==0):\n",
    "#         print(\"Process (\",i,\"/\",len(people_imgs_),\")  \",\"{:.2f}\".format(100*i/len(people_imgs_)),\" %\")\n",
    "#     r_t_imgs.append(cv2.imread(people_imgs_[i]))\n",
    "#     r_m_imgs.append(cv2.imread(mask_imgs_[i]))"
   ]
  },
  {
   "cell_type": "code",
   "execution_count": 21,
   "metadata": {},
   "outputs": [],
   "source": [
    "#people_imgs = [people_imgs_[random.randint(0,len(people_imgs_)-1)] for i in range(num_imgs)]\n",
    "\n",
    "\n",
    "#random.shuffle(people_imgs)"
   ]
  },
  {
   "cell_type": "code",
   "execution_count": 23,
   "metadata": {},
   "outputs": [
    {
     "data": {
      "text/plain": [
       "['/root/notebooks/final/caltech_pedestrian_refine_no/street/094801.jpg',\n",
       " '/root/notebooks/final/caltech_pedestrian_refine_no/street/021181.jpg',\n",
       " '/root/notebooks/final/caltech_pedestrian_refine_no/street/059220.jpg',\n",
       " '/root/notebooks/final/caltech_pedestrian_refine_no/street/022438.jpg',\n",
       " '/root/notebooks/final/caltech_pedestrian_refine_no/street/072103.jpg',\n",
       " '/root/notebooks/final/caltech_pedestrian_refine_no/street/057311.jpg',\n",
       " '/root/notebooks/final/caltech_pedestrian_refine_no/street/055315.jpg',\n",
       " '/root/notebooks/final/caltech_pedestrian_refine_no/street/002845.jpg',\n",
       " '/root/notebooks/final/caltech_pedestrian_refine_no/street/098081.jpg',\n",
       " '/root/notebooks/final/caltech_pedestrian_refine_no/street/083565.jpg']"
      ]
     },
     "execution_count": 23,
     "metadata": {},
     "output_type": "execute_result"
    }
   ],
   "source": [
    "street_imgs[:10]"
   ]
  },
  {
   "cell_type": "code",
   "execution_count": 24,
   "metadata": {},
   "outputs": [
    {
     "name": "stdout",
     "output_type": "stream",
     "text": [
      "Process ( 0 / 10000 )   0.00  %\n",
      "Process ( 100 / 10000 )   1.00  %\n",
      "Process ( 200 / 10000 )   2.00  %\n",
      "Process ( 300 / 10000 )   3.00  %\n",
      "Process ( 400 / 10000 )   4.00  %\n",
      "Process ( 500 / 10000 )   5.00  %\n",
      "Process ( 600 / 10000 )   6.00  %\n",
      "Process ( 700 / 10000 )   7.00  %\n",
      "Process ( 800 / 10000 )   8.00  %\n",
      "Process ( 900 / 10000 )   9.00  %\n",
      "Process ( 1000 / 10000 )   10.00  %\n",
      "Process ( 1100 / 10000 )   11.00  %\n",
      "Process ( 1200 / 10000 )   12.00  %\n",
      "Process ( 1300 / 10000 )   13.00  %\n",
      "Process ( 1400 / 10000 )   14.00  %\n",
      "Process ( 1500 / 10000 )   15.00  %\n",
      "Process ( 1600 / 10000 )   16.00  %\n",
      "Process ( 1700 / 10000 )   17.00  %\n",
      "Process ( 1800 / 10000 )   18.00  %\n",
      "Process ( 1900 / 10000 )   19.00  %\n",
      "Process ( 2000 / 10000 )   20.00  %\n",
      "Process ( 2100 / 10000 )   21.00  %\n",
      "Process ( 2200 / 10000 )   22.00  %\n",
      "Process ( 2300 / 10000 )   23.00  %\n",
      "Process ( 2400 / 10000 )   24.00  %\n",
      "Process ( 2500 / 10000 )   25.00  %\n",
      "Process ( 2600 / 10000 )   26.00  %\n",
      "Process ( 2700 / 10000 )   27.00  %\n",
      "Process ( 2800 / 10000 )   28.00  %\n",
      "Process ( 2900 / 10000 )   29.00  %\n",
      "Process ( 3000 / 10000 )   30.00  %\n",
      "Process ( 3100 / 10000 )   31.00  %\n",
      "Process ( 3200 / 10000 )   32.00  %\n",
      "Process ( 3300 / 10000 )   33.00  %\n",
      "Process ( 3400 / 10000 )   34.00  %\n",
      "Process ( 3500 / 10000 )   35.00  %\n",
      "Process ( 3600 / 10000 )   36.00  %\n",
      "Process ( 3700 / 10000 )   37.00  %\n",
      "Process ( 3800 / 10000 )   38.00  %\n",
      "Process ( 3900 / 10000 )   39.00  %\n",
      "Process ( 4000 / 10000 )   40.00  %\n",
      "Process ( 4100 / 10000 )   41.00  %\n",
      "Process ( 4200 / 10000 )   42.00  %\n",
      "Process ( 4300 / 10000 )   43.00  %\n",
      "Process ( 4400 / 10000 )   44.00  %\n",
      "Process ( 4500 / 10000 )   45.00  %\n",
      "Process ( 4600 / 10000 )   46.00  %\n",
      "Process ( 4700 / 10000 )   47.00  %\n",
      "Process ( 4800 / 10000 )   48.00  %\n",
      "Process ( 4900 / 10000 )   49.00  %\n",
      "Process ( 5000 / 10000 )   50.00  %\n",
      "Process ( 5100 / 10000 )   51.00  %\n",
      "Process ( 5200 / 10000 )   52.00  %\n",
      "Process ( 5300 / 10000 )   53.00  %\n",
      "Process ( 5400 / 10000 )   54.00  %\n",
      "Process ( 5500 / 10000 )   55.00  %\n",
      "Process ( 5600 / 10000 )   56.00  %\n",
      "Process ( 5700 / 10000 )   57.00  %\n",
      "Process ( 5800 / 10000 )   58.00  %\n",
      "Process ( 5900 / 10000 )   59.00  %\n",
      "Process ( 6000 / 10000 )   60.00  %\n",
      "Process ( 6100 / 10000 )   61.00  %\n",
      "Process ( 6200 / 10000 )   62.00  %\n",
      "Process ( 6300 / 10000 )   63.00  %\n",
      "Process ( 6400 / 10000 )   64.00  %\n",
      "Process ( 6500 / 10000 )   65.00  %\n",
      "Process ( 6600 / 10000 )   66.00  %\n",
      "Process ( 6700 / 10000 )   67.00  %\n",
      "Process ( 6800 / 10000 )   68.00  %\n",
      "Process ( 6900 / 10000 )   69.00  %\n",
      "Process ( 7000 / 10000 )   70.00  %\n",
      "Process ( 7100 / 10000 )   71.00  %\n",
      "Process ( 7200 / 10000 )   72.00  %\n",
      "Process ( 7300 / 10000 )   73.00  %\n",
      "Process ( 7400 / 10000 )   74.00  %\n",
      "Process ( 7500 / 10000 )   75.00  %\n",
      "Process ( 7600 / 10000 )   76.00  %\n",
      "Process ( 7700 / 10000 )   77.00  %\n",
      "Process ( 7800 / 10000 )   78.00  %\n",
      "Process ( 7900 / 10000 )   79.00  %\n",
      "Process ( 8000 / 10000 )   80.00  %\n",
      "Process ( 8100 / 10000 )   81.00  %\n",
      "Process ( 8200 / 10000 )   82.00  %\n",
      "Process ( 8300 / 10000 )   83.00  %\n",
      "Process ( 8400 / 10000 )   84.00  %\n",
      "Process ( 8500 / 10000 )   85.00  %\n",
      "Process ( 8600 / 10000 )   86.00  %\n",
      "Process ( 8700 / 10000 )   87.00  %\n",
      "Process ( 8800 / 10000 )   88.00  %\n",
      "Process ( 8900 / 10000 )   89.00  %\n",
      "Process ( 9000 / 10000 )   90.00  %\n",
      "Process ( 9100 / 10000 )   91.00  %\n",
      "Process ( 9200 / 10000 )   92.00  %\n",
      "Process ( 9300 / 10000 )   93.00  %\n",
      "Process ( 9400 / 10000 )   94.00  %\n",
      "Process ( 9500 / 10000 )   95.00  %\n",
      "Process ( 9600 / 10000 )   96.00  %\n",
      "Process ( 9700 / 10000 )   97.00  %\n",
      "Process ( 9800 / 10000 )   98.00  %\n",
      "Process ( 9900 / 10000 )   99.00  %\n"
     ]
    }
   ],
   "source": [
    "for i in range(num_imgs):\n",
    "    \n",
    "    if (i%100==0):\n",
    "        print(\"Process (\",i,\"/\",num_imgs,\")  \",\"{:.2f}\".format(100*i/num_imgs),\" %\")\n",
    "        \n",
    "    people_pick = random.randint(0,len(people_imgs_)-1)\n",
    "    \n",
    "    # create mask and save\n",
    "    #try:\n",
    "    #    mask_img = detectron_mask_img(people_imgs[i],(64,128))\n",
    "    #    mask_img = Image.fromarray(mask_img)\n",
    "    #except Exception as e:\n",
    "    #    print(\"Skip image :\",i)\n",
    "    #    continue\n",
    "    \n",
    "    mask_img = mask_imgs_[people_pick]\n",
    "        \n",
    "    #mask_img.save(save_dir+'/mask/'+str('{0:06}'.format(i))+'.jpg')\n",
    "    \n",
    "    shutil.copyfile(mask_img, save_dir+'/mask/'+str('{0:06}'.format(i))+'.jpg')\n",
    "    \n",
    "    # save street img\n",
    "    street_img = cv2.imread(street_imgs[i])\n",
    "    street_img = cv2.resize(street_img,(640,480))\n",
    "    cv2.imwrite(save_dir+'/street/'+str('{0:06}'.format(i))+'.jpg', street_img)\n",
    "    \n",
    "    ################################################################\n",
    "    img_path = street_imgs[i]\n",
    "    json_dir = img_path.replace('street', 'street_json')\n",
    "    json_dir = json_dir.replace('jpg', 'json')\n",
    "    shutil.copyfile(json_dir, save_dir+'/street_json/'+str('{0:06}'.format(i))+'.json')\n",
    "    ################################################################\n",
    "    \n",
    "    # save poeple img\n",
    "    #people_img = cv2.imread(people_imgs[i])\n",
    "    people_img = people_imgs_[people_pick]\n",
    "    #people_img = cv2.resize(people_img,(64,128))\n",
    "    #cv2.imwrite(save_dir+'/people/'+str('{0:06}'.format(i))+'.jpg', people_img)\n",
    "    shutil.copyfile(people_img, save_dir+'/people/'+str('{0:06}'.format(i))+'.jpg')\n",
    "    \n",
    "    # create json file and save\n",
    "    create_json_file(save_dir+'/street/'+str('{0:06}'.format(i))+'.jpg',\n",
    "                     save_dir+'/street_json/'+str('{0:06}'.format(i))+'.json',\n",
    "                     save_dir+'/people/'+str('{0:06}'.format(i))+'.jpg',\n",
    "                     save_dir+'/json/'+str('{0:06}'.format(i))+'.json',\n",
    "                     function=\"random\")"
   ]
  },
  {
   "cell_type": "code",
   "execution_count": null,
   "metadata": {},
   "outputs": [],
   "source": []
  },
  {
   "cell_type": "code",
   "execution_count": null,
   "metadata": {},
   "outputs": [],
   "source": []
  },
  {
   "cell_type": "code",
   "execution_count": null,
   "metadata": {},
   "outputs": [],
   "source": []
  }
 ],
 "metadata": {
  "kernelspec": {
   "display_name": "Python 3",
   "language": "python",
   "name": "python3"
  },
  "language_info": {
   "codemirror_mode": {
    "name": "ipython",
    "version": 3
   },
   "file_extension": ".py",
   "mimetype": "text/x-python",
   "name": "python",
   "nbconvert_exporter": "python",
   "pygments_lexer": "ipython3",
   "version": "3.6.7"
  },
  "widgets": {
   "application/vnd.jupyter.widget-state+json": {
    "state": {},
    "version_major": 2,
    "version_minor": 0
   }
  }
 },
 "nbformat": 4,
 "nbformat_minor": 4
}
