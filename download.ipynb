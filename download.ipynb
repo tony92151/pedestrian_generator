{
 "cells": [
  {
   "cell_type": "code",
   "execution_count": 8,
   "metadata": {},
   "outputs": [],
   "source": [
    "! mkdir ../gandata\n",
    "! mkdir ../gandata/result"
   ]
  },
  {
   "cell_type": "code",
   "execution_count": 9,
   "metadata": {},
   "outputs": [
    {
     "name": "stdout",
     "output_type": "stream",
     "text": [
      "--2020-03-31 15:15:52--  https://final-dataset.s3.amazonaws.com/gandata1.zip\n",
      "Resolving final-dataset.s3.amazonaws.com (final-dataset.s3.amazonaws.com)... 52.216.107.124\n",
      "Connecting to final-dataset.s3.amazonaws.com (final-dataset.s3.amazonaws.com)|52.216.107.124|:443... connected.\n",
      "HTTP request sent, awaiting response... 200 OK\n",
      "Length: 235604829 (225M) [application/zip]\n",
      "Saving to: ‘../gandata/gandata1.zip’\n",
      "\n",
      "gandata1.zip        100%[===================>] 224.69M  13.2MB/s    in 25s     \n",
      "\n",
      "2020-03-31 15:16:18 (9.09 MB/s) - ‘../gandata/gandata1.zip’ saved [235604829/235604829]\n",
      "\n"
     ]
    }
   ],
   "source": [
    "!wget https://final-dataset.s3.amazonaws.com/gandata1.zip -P ../gandata/"
   ]
  },
  {
   "cell_type": "code",
   "execution_count": 10,
   "metadata": {},
   "outputs": [],
   "source": [
    "! unzip -q ../gandata/gandata1.zip -d ../gandata"
   ]
  },
  {
   "cell_type": "code",
   "execution_count": null,
   "metadata": {},
   "outputs": [],
   "source": []
  }
 ],
 "metadata": {
  "kernelspec": {
   "display_name": "Python 3",
   "language": "python",
   "name": "python3"
  },
  "language_info": {
   "codemirror_mode": {
    "name": "ipython",
    "version": 3
   },
   "file_extension": ".py",
   "mimetype": "text/x-python",
   "name": "python",
   "nbconvert_exporter": "python",
   "pygments_lexer": "ipython3",
   "version": "3.6.7"
  }
 },
 "nbformat": 4,
 "nbformat_minor": 4
}
