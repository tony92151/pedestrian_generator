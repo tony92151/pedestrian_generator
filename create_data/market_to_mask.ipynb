{
 "cells": [
  {
   "cell_type": "code",
   "execution_count": 1,
   "metadata": {},
   "outputs": [],
   "source": [
    "import matplotlib.pyplot as plt\n",
    "from PIL import Image\n",
    "import numpy as np\n",
    "import json\n",
    "import os\n",
    "import random\n",
    "import glob\n",
    "from detectron_pro import detectron_mask_img, detectron_mask_img_composite, detectron_multi_mask_img\n",
    "import shutil\n",
    "import cv2\n",
    "\n",
    "import random"
   ]
  },
  {
   "cell_type": "markdown",
   "metadata": {},
   "source": [
    "# Start create"
   ]
  },
  {
   "cell_type": "code",
   "execution_count": 2,
   "metadata": {},
   "outputs": [],
   "source": [
    "people_dir = '/home/tedbest/final/Market-1501-v15.09.15'\n",
    "\n",
    "# Image save dir\n",
    "save_dir = '/home/tedbest/final/market_mask2'\n",
    "\n",
    "num_imgs = 'all'\n",
    "#num_imgs = 20000"
   ]
  },
  {
   "cell_type": "code",
   "execution_count": 3,
   "metadata": {},
   "outputs": [],
   "source": [
    "# Check dir folder exit\n",
    "# If not, create one\n",
    "if os.path.exists(save_dir) == False:\n",
    "    os.makedirs(save_dir)\n",
    "\n",
    "for s in ['people','mask']:\n",
    "    if os.path.exists(os.path.join(save_dir, s)) == False:\n",
    "        os.makedirs(os.path.join(save_dir, s))"
   ]
  },
  {
   "cell_type": "code",
   "execution_count": 4,
   "metadata": {},
   "outputs": [],
   "source": [
    "people_imgs_ = glob.glob(people_dir+'/**/*.jpg', recursive=True)\n",
    "\n",
    "random.shuffle(people_imgs_)\n",
    "\n",
    "if num_imgs in 'all':\n",
    "    random.shuffle(people_imgs_)\n",
    "else:\n",
    "    random.shuffle(people_imgs_)\n",
    "    people_imgs = random.sample(people_imgs, num_imgs)"
   ]
  },
  {
   "cell_type": "code",
   "execution_count": 5,
   "metadata": {},
   "outputs": [
    {
     "data": {
      "text/plain": [
       "61295"
      ]
     },
     "execution_count": 5,
     "metadata": {},
     "output_type": "execute_result"
    }
   ],
   "source": [
    "len(people_imgs_)"
   ]
  },
  {
   "cell_type": "code",
   "execution_count": 6,
   "metadata": {},
   "outputs": [],
   "source": [
    "# r_t_imgs = []\n",
    "# r_m_imgs = []"
   ]
  },
  {
   "cell_type": "code",
   "execution_count": 7,
   "metadata": {},
   "outputs": [
    {
     "name": "stdout",
     "output_type": "stream",
     "text": [
      "Process ( 0 / 61295 )   0.00  %\n",
      "Process ( 500 / 61295 )   0.82  %\n",
      "Process ( 1000 / 61295 )   1.63  %\n",
      "Process ( 1500 / 61295 )   2.45  %\n",
      "Process ( 2000 / 61295 )   3.26  %\n",
      "Process ( 2500 / 61295 )   4.08  %\n",
      "Process ( 3000 / 61295 )   4.89  %\n",
      "Process ( 3500 / 61295 )   5.71  %\n",
      "Process ( 4000 / 61295 )   6.53  %\n",
      "Process ( 4500 / 61295 )   7.34  %\n",
      "Process ( 5000 / 61295 )   8.16  %\n",
      "Process ( 5500 / 61295 )   8.97  %\n",
      "Process ( 6000 / 61295 )   9.79  %\n",
      "Process ( 6500 / 61295 )   10.60  %\n",
      "Process ( 7000 / 61295 )   11.42  %\n",
      "Process ( 7500 / 61295 )   12.24  %\n",
      "Process ( 8000 / 61295 )   13.05  %\n",
      "Process ( 8500 / 61295 )   13.87  %\n",
      "Process ( 9000 / 61295 )   14.68  %\n",
      "Process ( 9500 / 61295 )   15.50  %\n",
      "Process ( 10000 / 61295 )   16.31  %\n",
      "Process ( 10500 / 61295 )   17.13  %\n",
      "Process ( 11000 / 61295 )   17.95  %\n",
      "Process ( 11500 / 61295 )   18.76  %\n",
      "Process ( 12000 / 61295 )   19.58  %\n",
      "Process ( 12500 / 61295 )   20.39  %\n",
      "Process ( 13000 / 61295 )   21.21  %\n",
      "Process ( 13500 / 61295 )   22.02  %\n",
      "Process ( 14000 / 61295 )   22.84  %\n",
      "Process ( 14500 / 61295 )   23.66  %\n",
      "Process ( 15000 / 61295 )   24.47  %\n",
      "Process ( 15500 / 61295 )   25.29  %\n",
      "Process ( 16000 / 61295 )   26.10  %\n",
      "Process ( 16500 / 61295 )   26.92  %\n",
      "Process ( 17000 / 61295 )   27.73  %\n",
      "Process ( 17500 / 61295 )   28.55  %\n",
      "Process ( 18000 / 61295 )   29.37  %\n",
      "Process ( 18500 / 61295 )   30.18  %\n",
      "Process ( 19000 / 61295 )   31.00  %\n",
      "Process ( 19500 / 61295 )   31.81  %\n",
      "Process ( 20000 / 61295 )   32.63  %\n",
      "Process ( 20500 / 61295 )   33.44  %\n",
      "Process ( 21000 / 61295 )   34.26  %\n",
      "Process ( 21500 / 61295 )   35.08  %\n",
      "Process ( 22000 / 61295 )   35.89  %\n",
      "Process ( 22500 / 61295 )   36.71  %\n",
      "Process ( 23000 / 61295 )   37.52  %\n",
      "Process ( 23500 / 61295 )   38.34  %\n",
      "Process ( 24000 / 61295 )   39.15  %\n",
      "Process ( 24500 / 61295 )   39.97  %\n",
      "Process ( 25000 / 61295 )   40.79  %\n",
      "Process ( 25500 / 61295 )   41.60  %\n",
      "Process ( 26000 / 61295 )   42.42  %\n",
      "Process ( 26500 / 61295 )   43.23  %\n",
      "Process ( 27000 / 61295 )   44.05  %\n",
      "Process ( 27500 / 61295 )   44.86  %\n",
      "Process ( 28000 / 61295 )   45.68  %\n",
      "Process ( 28500 / 61295 )   46.50  %\n",
      "Process ( 29000 / 61295 )   47.31  %\n",
      "Process ( 29500 / 61295 )   48.13  %\n",
      "Process ( 30000 / 61295 )   48.94  %\n",
      "Process ( 30500 / 61295 )   49.76  %\n",
      "Process ( 31000 / 61295 )   50.58  %\n",
      "Process ( 31500 / 61295 )   51.39  %\n",
      "Process ( 32000 / 61295 )   52.21  %\n",
      "Process ( 32500 / 61295 )   53.02  %\n",
      "Process ( 33000 / 61295 )   53.84  %\n",
      "Process ( 33500 / 61295 )   54.65  %\n",
      "Process ( 34000 / 61295 )   55.47  %\n",
      "Process ( 34500 / 61295 )   56.29  %\n",
      "Process ( 35000 / 61295 )   57.10  %\n",
      "Process ( 35500 / 61295 )   57.92  %\n",
      "Process ( 36000 / 61295 )   58.73  %\n",
      "Process ( 36500 / 61295 )   59.55  %\n",
      "Process ( 37000 / 61295 )   60.36  %\n",
      "Process ( 37500 / 61295 )   61.18  %\n",
      "Process ( 38000 / 61295 )   62.00  %\n",
      "Process ( 38500 / 61295 )   62.81  %\n",
      "Process ( 39000 / 61295 )   63.63  %\n",
      "Process ( 39500 / 61295 )   64.44  %\n",
      "Process ( 40000 / 61295 )   65.26  %\n",
      "Process ( 40500 / 61295 )   66.07  %\n",
      "Process ( 41000 / 61295 )   66.89  %\n",
      "Process ( 41500 / 61295 )   67.71  %\n",
      "Process ( 42000 / 61295 )   68.52  %\n",
      "Process ( 42500 / 61295 )   69.34  %\n",
      "Process ( 43000 / 61295 )   70.15  %\n",
      "Process ( 43500 / 61295 )   70.97  %\n",
      "Process ( 44000 / 61295 )   71.78  %\n",
      "Process ( 44500 / 61295 )   72.60  %\n",
      "Process ( 45000 / 61295 )   73.42  %\n",
      "Process ( 45500 / 61295 )   74.23  %\n",
      "Process ( 46000 / 61295 )   75.05  %\n",
      "Process ( 46500 / 61295 )   75.86  %\n",
      "Process ( 47000 / 61295 )   76.68  %\n",
      "Process ( 47500 / 61295 )   77.49  %\n",
      "Process ( 48000 / 61295 )   78.31  %\n",
      "Process ( 48500 / 61295 )   79.13  %\n",
      "Process ( 49000 / 61295 )   79.94  %\n",
      "Process ( 49500 / 61295 )   80.76  %\n",
      "Process ( 50000 / 61295 )   81.57  %\n",
      "Process ( 50500 / 61295 )   82.39  %\n",
      "Process ( 51000 / 61295 )   83.20  %\n",
      "Process ( 51500 / 61295 )   84.02  %\n",
      "Process ( 52000 / 61295 )   84.84  %\n",
      "Process ( 52500 / 61295 )   85.65  %\n",
      "Process ( 53000 / 61295 )   86.47  %\n",
      "Process ( 53500 / 61295 )   87.28  %\n",
      "Process ( 54000 / 61295 )   88.10  %\n",
      "Process ( 54500 / 61295 )   88.91  %\n",
      "Process ( 55000 / 61295 )   89.73  %\n",
      "Process ( 55500 / 61295 )   90.55  %\n",
      "Process ( 56000 / 61295 )   91.36  %\n",
      "Process ( 56500 / 61295 )   92.18  %\n",
      "Process ( 57000 / 61295 )   92.99  %\n",
      "Process ( 57500 / 61295 )   93.81  %\n",
      "Process ( 58000 / 61295 )   94.62  %\n",
      "Process ( 58500 / 61295 )   95.44  %\n",
      "Process ( 59000 / 61295 )   96.26  %\n",
      "Process ( 59500 / 61295 )   97.07  %\n",
      "Process ( 60000 / 61295 )   97.89  %\n",
      "Process ( 60500 / 61295 )   98.70  %\n",
      "Process ( 61000 / 61295 )   99.52  %\n"
     ]
    }
   ],
   "source": [
    "for i in range(len(people_imgs_)):\n",
    "    if (i%500==0):\n",
    "        print(\"Process (\",i,\"/\",len(people_imgs_),\")  \",\"{:.2f}\".format(100*i/len(people_imgs_)),\" %\")\n",
    "    try:\n",
    "        mask_img,_ = detectron_multi_mask_img(people_imgs_[i],(64,128))\n",
    "        mask_img = Image.fromarray(mask_img)\n",
    "    except Exception as e:\n",
    "        print(\"Skip image :\",i)\n",
    "        continue\n",
    "    shutil.copyfile(people_imgs_[i], save_dir+'/people/'+str('{0:06}'.format(i))+'.jpg')\n",
    "    mask_img.save(save_dir+'/mask/'+str('{0:06}'.format(i))+'.jpg')\n",
    "    \n",
    "    "
   ]
  },
  {
   "cell_type": "code",
   "execution_count": 9,
   "metadata": {},
   "outputs": [],
   "source": [
    "mask_img,_ = detectron_multi_mask_img(people_imgs_[918],(64,128))"
   ]
  },
  {
   "cell_type": "code",
   "execution_count": 10,
   "metadata": {},
   "outputs": [
    {
     "data": {
      "image/png": "[encoded data removed]",
      "text/plain": [
       "<PIL.JpegImagePlugin.JpegImageFile image mode=RGB size=64x128 at 0x7F799D6FCD68>"
      ]
     },
     "execution_count": 10,
     "metadata": {},
     "output_type": "execute_result"
    }
   ],
   "source": [
    "Image.open(people_imgs_[918])"
   ]
  },
  {
   "cell_type": "code",
   "execution_count": 11,
   "metadata": {},
   "outputs": [
    {
     "data": {
      "image/png": "[encoded data removed]",
      "text/plain": [
       "<PIL.Image.Image image mode=1 size=64x128 at 0x7F799D672E10>"
      ]
     },
     "execution_count": 11,
     "metadata": {},
     "output_type": "execute_result"
    }
   ],
   "source": [
    "Image.fromarray(mask_img)"
   ]
  },
  {
   "cell_type": "code",
   "execution_count": 23,
   "metadata": {},
   "outputs": [],
   "source": [
    "# Image.fromarray(ou['instances'].pred_masks.cpu().numpy()[0])"
   ]
  },
  {
   "cell_type": "code",
   "execution_count": 18,
   "metadata": {},
   "outputs": [],
   "source": [
    "# ou"
   ]
  },
  {
   "cell_type": "code",
   "execution_count": null,
   "metadata": {},
   "outputs": [],
   "source": []
  }
 ],
 "metadata": {
  "kernelspec": {
   "display_name": "Python 3",
   "language": "python",
   "name": "python3"
  },
  "language_info": {
   "codemirror_mode": {
    "name": "ipython",
    "version": 3
   },
   "file_extension": ".py",
   "mimetype": "text/x-python",
   "name": "python",
   "nbconvert_exporter": "python",
   "pygments_lexer": "ipython3",
   "version": "3.6.7"
  },
  "widgets": {
   "application/vnd.jupyter.widget-state+json": {
    "state": {},
    "version_major": 2,
    "version_minor": 0
   }
  }
 },
 "nbformat": 4,
 "nbformat_minor": 4
}
