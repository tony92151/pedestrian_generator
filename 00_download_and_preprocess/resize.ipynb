{
 "cells": [
  {
   "cell_type": "code",
   "execution_count": 21,
   "metadata": {},
   "outputs": [],
   "source": [
    "from PIL import Image\n",
    "import glob\n",
    "import os\n",
    "from tqdm import tqdm"
   ]
  },
  {
   "cell_type": "code",
   "execution_count": 28,
   "metadata": {},
   "outputs": [],
   "source": [
    "img_dir = '/home/guest/pedestrian_generator_data/leftImg8bit_result/leftImg8bit_no'\n",
    "\n",
    "save_dir = '/home/guest/pedestrian_generator_data/leftImg8bit_result'"
   ]
  },
  {
   "cell_type": "code",
   "execution_count": 29,
   "metadata": {},
   "outputs": [],
   "source": [
    "if os.path.exists(save_dir) == False:\n",
    "    os.makedirs(save_dir)\n",
    "\n",
    "for s in ['leftImg8bit_no', 'leftImg8bit_person']:\n",
    "    if os.path.exists(os.path.join(save_dir, s)) == False:\n",
    "        os.makedirs(os.path.join(save_dir, s))"
   ]
  },
  {
   "cell_type": "code",
   "execution_count": 30,
   "metadata": {},
   "outputs": [],
   "source": [
    "img_dir_ = glob.glob(img_dir+'/*.png', recursive=True)"
   ]
  },
  {
   "cell_type": "code",
   "execution_count": 31,
   "metadata": {},
   "outputs": [
    {
     "data": {
      "text/plain": [
       "['/home/guest/pedestrian_generator_data/leftImg8bit_result/leftImg8bit_no/006085.png',\n",
       " '/home/guest/pedestrian_generator_data/leftImg8bit_result/leftImg8bit_no/023521.png',\n",
       " '/home/guest/pedestrian_generator_data/leftImg8bit_result/leftImg8bit_no/010539.png',\n",
       " '/home/guest/pedestrian_generator_data/leftImg8bit_result/leftImg8bit_no/027235.png',\n",
       " '/home/guest/pedestrian_generator_data/leftImg8bit_result/leftImg8bit_no/003358.png',\n",
       " '/home/guest/pedestrian_generator_data/leftImg8bit_result/leftImg8bit_no/011262.png',\n",
       " '/home/guest/pedestrian_generator_data/leftImg8bit_result/leftImg8bit_no/007100.png',\n",
       " '/home/guest/pedestrian_generator_data/leftImg8bit_result/leftImg8bit_no/029660.png',\n",
       " '/home/guest/pedestrian_generator_data/leftImg8bit_result/leftImg8bit_no/007201.png',\n",
       " '/home/guest/pedestrian_generator_data/leftImg8bit_result/leftImg8bit_no/009302.png']"
      ]
     },
     "execution_count": 31,
     "metadata": {},
     "output_type": "execute_result"
    }
   ],
   "source": [
    "img_dir_[:10]"
   ]
  },
  {
   "cell_type": "code",
   "execution_count": 27,
   "metadata": {},
   "outputs": [
    {
     "data": {
      "text/plain": [
       "'/home/guest/pedestrian_generator_data/leftImg8bit/leftImg8bit_no'"
      ]
     },
     "execution_count": 27,
     "metadata": {},
     "output_type": "execute_result"
    }
   ],
   "source": [
    "for i,_ in tqdm(enumerate(range(len(img_dir_)))):\n",
    "    img = Image,open(img_dir_[i])\n",
    "    img_ = img.resize(())\n",
    "    "
   ]
  },
  {
   "cell_type": "code",
   "execution_count": 32,
   "metadata": {},
   "outputs": [
    {
     "data": {
      "text/plain": [
       "'/home/guest/pedestrian_generator_data/leftImg8bit_result/leftImg8bit_no'"
      ]
     },
     "execution_count": 32,
     "metadata": {},
     "output_type": "execute_result"
    }
   ],
   "source": [
    "os.path.dirname(img_dir_[0])"
   ]
  },
  {
   "cell_type": "code",
   "execution_count": 34,
   "metadata": {},
   "outputs": [
    {
     "data": {
      "text/plain": [
       "'/006085.png'"
      ]
     },
     "execution_count": 34,
     "metadata": {},
     "output_type": "execute_result"
    }
   ],
   "source": [
    "img_dir_[0].replace(os.path.dirname(img_dir_[0]),'')"
   ]
  },
  {
   "cell_type": "code",
   "execution_count": 41,
   "metadata": {},
   "outputs": [
    {
     "data": {
      "text/plain": [
       "'/home/guest/pedestrian_generator_data/leftImg8bit_result/leftImg8bit_no/006085.png'"
      ]
     },
     "execution_count": 41,
     "metadata": {},
     "output_type": "execute_result"
    }
   ],
   "source": [
    "os.path.join(os.path.dirname(img_dir_[0]), img_dir_[0].replace(os.path.dirname(img_dir_[0]),'')[1:])"
   ]
  },
  {
   "cell_type": "code",
   "execution_count": null,
   "metadata": {},
   "outputs": [],
   "source": []
  }
 ],
 "metadata": {
  "kernelspec": {
   "display_name": "Python 3",
   "language": "python",
   "name": "python3"
  },
  "language_info": {
   "codemirror_mode": {
    "name": "ipython",
    "version": 3
   },
   "file_extension": ".py",
   "mimetype": "text/x-python",
   "name": "python",
   "nbconvert_exporter": "python",
   "pygments_lexer": "ipython3",
   "version": "3.6.9"
  }
 },
 "nbformat": 4,
 "nbformat_minor": 4
}
