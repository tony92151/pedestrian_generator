{
 "cells": [
  {
   "cell_type": "code",
   "execution_count": 82,
   "metadata": {},
   "outputs": [],
   "source": [
    "import matplotlib.pyplot as plt\n",
    "import matplotlib.patches as patches\n",
    "from PIL import Image\n",
    "import numpy as np\n",
    "import json\n",
    "import os\n",
    "import random\n",
    "\n",
    "def draw_bdbox_in_center(jpg_dir,stickimg_dir,results_dir):\n",
    "    bd_box_x,bd_box_y,bd_box_length,bd_box_height = center_location(jpg_dir,stickimg_dir)\n",
    "    rect = patches.Rectangle((bd_box_x,bd_box_y),bd_box_length,bd_box_height,linewidth=1,edgecolor='r',facecolor='none')\n",
    "    fig,ax = plt.subplots(1)\n",
    "    # Add the patch to the Axes\n",
    "    ax.imshow(np.array(Image.open(jpg_dir), dtype=np.uint8))\n",
    "    ax.add_patch(rect)\n",
    "    plt.axis('off')\n",
    "    plt.plot()\n",
    "    extent = ax.get_window_extent().transformed(fig.dpi_scale_trans.inverted())\n",
    "    plt.savefig(results_dir +'/'+'test.jpg', bbox_inches=extent, pad_inches=0)\n",
    "    #plt.savefig(fresults_dir +'/'+jpg_dir[-10:-4]+'.png')\n",
    "    plt.cla()\n",
    "    plt.clf()\n",
    "    plt.close()"
   ]
  },
  {
   "cell_type": "code",
   "execution_count": 80,
   "metadata": {},
   "outputs": [],
   "source": [
    "def center_location(jpg_dir,stickimg_dir):\n",
    "    im = np.array(Image.open(jpg_dir), dtype=np.uint8)\n",
    "    x_center,y_center = im.shape[1]/2,im.shape[0]/2\n",
    "    im_stick = np.array(Image.open(stickimg_dir), dtype=np.uint8)\n",
    "    im_stick_shape = im_stick.shape\n",
    "    bd_box_x,bd_box_y = x_center-(im_stick_shape[1]/2),y_center-(im_stick_shape[0]/2)\n",
    "    bd_box_length,bd_box_height =im_stick_shape[1],im_stick_shape[0]\n",
    "    return bd_box_x,bd_box_y,bd_box_length,bd_box_height\n",
    "def random_location(jpg_dir,stickimg_dir):\n",
    "    rangeX = 70\n",
    "    x_left_bound,x_right_bound = rangeX,im.shape[1]-rangeX\n",
    "    x_center = random.randrange(x_left_bound, x_right_bound)\n",
    "    seq = [350,300,250,200]\n",
    "    y_center = random.choice(seq)\n",
    "    i_shape1 = [128,64]\n",
    "    i_shape2 = [128*7/8,64*7/8]\n",
    "    i_shape3 = [128*3/4,64*3/4]\n",
    "    i_shape4 = [128*2/4,64*2/4]\n",
    "    dict = {350:i_shape1,300:i_shape2 ,250:i_shape3,200:i_shape4}\n",
    "    image_shape = dict[y_center]\n",
    "    bd_box_x,bd_box_y = x_center-(image_shape[1]/2),y_center-(image_shape[0]/2)\n",
    "    bd_box_length,bd_box_height =image_shape[1],image_shape[0]\n",
    "    return bd_box_x,bd_box_y,bd_box_length,bd_box_height"
   ]
  },
  {
   "cell_type": "code",
   "execution_count": 83,
   "metadata": {},
   "outputs": [],
   "source": [
    "def create_json_file(jpg_dir,stickimg_dir,results_dir,function='center'):\n",
    "    if function == 'center':\n",
    "        bd_box_x,bd_box_y,bd_box_length,bd_box_height = center_location(jpg_dir,stickimg_dir)\n",
    "    elif function == 'random':\n",
    "        bd_box_x,bd_box_y,bd_box_length,bd_box_height = random_location(jpg_dir,stickimg_dir)\n",
    "    data = []\n",
    "    data.append({\n",
    "    'end':0,\n",
    "    'hide':0,\n",
    "    'id':0,\n",
    "    'init':0,\n",
    "    'lbl':\"person\",\n",
    "    'lock':0,\n",
    "    'occl':0,\n",
    "    'pos':[\n",
    "    bd_box_x,\n",
    "    bd_box_y,\n",
    "    bd_box_length,\n",
    "    bd_box_height],    \n",
    "    'posv':[\n",
    "    0,\n",
    "    0,\n",
    "    0,\n",
    "    0],\n",
    "    'str':0\n",
    "                })\n",
    "    with open(results_dir+'/'+jpg_dir.split('/')[-1].split('.')[0] + '.json', 'w') as outfile:\n",
    "        json.dump(data, outfile)"
   ]
  },
  {
   "cell_type": "code",
   "execution_count": 81,
   "metadata": {},
   "outputs": [],
   "source": [
    "create_json_file(jpg_dir,stickimg_dir,results_dir,function='random')"
   ]
  },
  {
   "cell_type": "code",
   "execution_count": 89,
   "metadata": {},
   "outputs": [],
   "source": [
    "draw_bdbox_in_center(jpg_dir,stickimg_dir,results_dir)"
   ]
  },
  {
   "cell_type": "code",
   "execution_count": 107,
   "metadata": {},
   "outputs": [],
   "source": [
    "import os\n",
    "from PIL import Image\n",
    "steet_dir = os.path.dirname('/root/notebooks/0858611-2/final_project/caltech_pedestrian_extractor/js_on_image/gandata1/street_view/*')\n",
    "steet_jpg_dir  = []\n",
    "steet_json_dir = []\n",
    "for dirname, _, filenames in os.walk(steet_dir):\n",
    "    for filename in filenames:\n",
    "        if filename[-3:]== 'jpg':\n",
    "            steet_jpg_dir.append(os.path.join(dirname, filename))\n",
    "        elif filename[-4:]== 'json':\n",
    "            steet_json_dir.append(os.path.join(dirname, filename))\n",
    "\n",
    "peole_dir = os.path.dirname('/root/notebooks/0858611-2/final_project/caltech_pedestrian_extractor/js_on_image/gandata1/people/*')\n",
    "peole_jpg_dir  = []\n",
    "people_json_dir = []\n",
    "for dirname, _, filenames in os.walk(peole_dir):\n",
    "    for filename in filenames:\n",
    "        if filename[-3:]== 'jpg':\n",
    "            peole_jpg_dir.append(os.path.join(dirname, filename))\n",
    "        elif filename[-4:]== 'json':\n",
    "            people_json_dir.append(os.path.join(dirname, filename))"
   ]
  },
  {
   "cell_type": "code",
   "execution_count": 108,
   "metadata": {},
   "outputs": [],
   "source": [
    "import random\n",
    "sort_steet_jpg  = sorted(steet_jpg_dir, key=lambda x: x[-30:-3])\n",
    "sort_steet_jpg = sort_steet_jpg[:-7]\n",
    "sort_people_jpg  = sorted(peole_jpg_dir, key=lambda x: x[-30:-3])"
   ]
  },
  {
   "cell_type": "code",
   "execution_count": 114,
   "metadata": {},
   "outputs": [],
   "source": [
    "results_dir = '/root/notebooks/0858611-2/final_project/caltech_pedestrian_extractor/js_on_image/gandata1/json'\n",
    "for jpg_dir,stickimg_dir in zip(sort_steet_jpg,sort_people_jpg):\n",
    "    create_json_file(jpg_dir,stickimg_dir,results_dir,function='center')\n",
    "    "
   ]
  },
  {
   "cell_type": "code",
   "execution_count": null,
   "metadata": {},
   "outputs": [],
   "source": []
  }
 ],
 "metadata": {
  "kernelspec": {
   "display_name": "Python 3",
   "language": "python",
   "name": "python3"
  },
  "language_info": {
   "codemirror_mode": {
    "name": "ipython",
    "version": 3
   },
   "file_extension": ".py",
   "mimetype": "text/x-python",
   "name": "python",
   "nbconvert_exporter": "python",
   "pygments_lexer": "ipython3",
   "version": "3.6.7"
  },
  "widgets": {
   "application/vnd.jupyter.widget-state+json": {
    "state": {},
    "version_major": 2,
    "version_minor": 0
   }
  }
 },
 "nbformat": 4,
 "nbformat_minor": 4
}
