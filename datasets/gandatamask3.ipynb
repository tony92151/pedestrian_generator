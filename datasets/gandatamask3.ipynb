{
 "cells": [
  {
   "cell_type": "code",
   "execution_count": 1,
   "metadata": {},
   "outputs": [],
   "source": [
    "import matplotlib.pyplot as plt\n",
    "import matplotlib.patches as patches\n",
    "from PIL import Image\n",
    "import numpy as np\n",
    "import json\n",
    "import os\n",
    "import random\n",
    "#you should modify the code to match what your request\n",
    "\n",
    "#In <get the street_view_jpg people_jpg list >\n",
    "# 1.street_view_jpg_dir(it can be the parent folder to load many jpg)\n",
    "# 2.people_jpg_dir(it can be the parent folder to load many jpg)\n",
    "\n",
    "#In <copy img (copy img from source folder) >\n",
    "# 3.street_img_num (how many picture you want)\n",
    "# 4.results_dir    (save your image)\n",
    "\n",
    "#In <copy people>\n",
    "# 5.people_img_num(how many picture you want)\n",
    "# 6.people_src_dir(it would be one picture)\n",
    "# 7.people_dst_dir(it would be one folder)\n",
    "\n",
    "#In <load jpg in the folder that you have been created on abovee>\n",
    "#8.street_view_dir(it would be 4.<results_dir>)\n",
    "#9.people_dir     (it would be 7.<people_dst_dir>)\n",
    "#10.results_dir    (it would be one folder)"
   ]
  },
  {
   "cell_type": "code",
   "execution_count": 2,
   "metadata": {},
   "outputs": [],
   "source": [
    "\n",
    "# to get location that stickimg will sticked on jpg_dir center or random\n",
    "def center_location(jpg_dir,stickimg_dir):\n",
    "    im = np.array(Image.open(jpg_dir), dtype=np.uint8)\n",
    "    x_center,y_center = im.shape[1]/2,im.shape[0]/2\n",
    "    im_stick = np.array(Image.open(stickimg_dir), dtype=np.uint8)\n",
    "    im_stick_shape = im_stick.shape\n",
    "    bd_box_x,bd_box_y = x_center-(im_stick_shape[1]/2),y_center-(im_stick_shape[0]/2)\n",
    "    bd_box_length,bd_box_height =im_stick_shape[1],im_stick_shape[0]\n",
    "    return bd_box_x,bd_box_y,bd_box_length,bd_box_height\n",
    "def random_location(jpg_dir,stickimg_dir):\n",
    "    im = np.array(Image.open(jpg_dir), dtype=np.uint8)\n",
    "    rangeX = 128\n",
    "    x_left_bound,x_right_bound = rangeX,im.shape[1]-rangeX\n",
    "    x_center = random.randrange(x_left_bound, x_right_bound)\n",
    "    seq = [350,300,250,200]\n",
    "    y_center = random.choice(seq)\n",
    "    i_shape1 = [128,64]\n",
    "    i_shape2 = [128*7/8,64*7/8]\n",
    "    i_shape3 = [128*3/4,64*3/4]\n",
    "    i_shape4 = [128*2/4,64*2/4]\n",
    "    dict = {350:i_shape1,300:i_shape2 ,250:i_shape3,200:i_shape4}\n",
    "    image_shape = dict[y_center]\n",
    "    bd_box_x,bd_box_y = x_center-(image_shape[1]/2),y_center-(image_shape[0]/2)\n",
    "    bd_box_length,bd_box_height =image_shape[1],image_shape[0]\n",
    "    return bd_box_x,bd_box_y,bd_box_length,bd_box_height"
   ]
  },
  {
   "cell_type": "code",
   "execution_count": 3,
   "metadata": {},
   "outputs": [],
   "source": [
    "#rename your jpg and save to your results_dir the file name is 000001.jpg ~ <nums>.jpg\n",
    "#the flowwing code can plt the img if you command the plt.cla(), plt.clf() ,plt.close()\n",
    "import matplotlib.pyplot as plt\n",
    "import matplotlib.image as mpimg\n",
    "import scipy.misc\n",
    "\n",
    "def rename_street_jpg(jpg_dir,img_num,results_dir):\n",
    "    count = 0\n",
    "    if len(jpg_dir) < img_num:\n",
    "        print('Your street_jpg file small than your request,so street_jpg would repeat')\n",
    "    while count < img_num:\n",
    "        for img_path in jpg_dir:\n",
    "            if count < img_num:\n",
    "                img = mpimg.imread(img_path) \n",
    "                scipy.misc.imsave(results_dir+'/'+str('{0:06}'.format(count))+'.jpg', img)\n",
    "                count+=1\n",
    "            else:\n",
    "                break"
   ]
  },
  {
   "cell_type": "code",
   "execution_count": 4,
   "metadata": {},
   "outputs": [],
   "source": [
    "#get the street_view_jpg people_jpg list \n",
    "import os\n",
    "from PIL import Image\n",
    "street_view_jpg_dir = os.path.dirname('/root/notebooks/0858611-2/final_project/caltech_pedestrian_extractor/video_extractor/*')\n",
    "people_jpg_dir = os.path.dirname('/root/notebooks/0858611-2/final_project/caltech_pedestrian_extractor/js_on_image/people_img/Market-1501-v15.09.15/*')\n",
    "street_view_jpg  = []\n",
    "people_jpg = []\n",
    "for dirname, _, filenames in os.walk(street_view_jpg_dir):\n",
    "    for filename in filenames:\n",
    "        if filename[-3:] == 'jpg'and filename[-14:-4]!='checkpoint':\n",
    "            street_view_jpg.append(os.path.join(dirname, filename))\n",
    "        #elif filename[-4:]== 'json' and filename[-15:-5]!='checkpoint':\n",
    "        #    json_dir.append(os.path.join(dirname, filename))\n",
    "for dirname, _, filenames in os.walk(people_jpg_dir):\n",
    "    for filename in filenames:\n",
    "        if filename[-3:] == 'jpg'and filename[-14:-4]!='checkpoint':\n",
    "            people_jpg.append(os.path.join(dirname, filename))\n",
    "\n",
    "random.shuffle(people_jpg)            \n",
    "random.shuffle(street_view_jpg)"
   ]
  },
  {
   "cell_type": "code",
   "execution_count": 5,
   "metadata": {},
   "outputs": [
    {
     "name": "stderr",
     "output_type": "stream",
     "text": [
      "/opt/conda/lib/python3.6/site-packages/ipykernel_launcher.py:15: DeprecationWarning: `imsave` is deprecated!\n",
      "`imsave` is deprecated in SciPy 1.0.0, and will be removed in 1.2.0.\n",
      "Use ``imageio.imwrite`` instead.\n",
      "  from ipykernel import kernelapp as app\n"
     ]
    }
   ],
   "source": [
    "#copy img (copy img from source folder)\n",
    "street_view_jpg = street_view_jpg\n",
    "street_img_num = 11\n",
    "street_view_results_dir = '/root/notebooks/0858611-2/final_project/pedestrian_generator/create_data/save/street_view'\n",
    "rename_street_jpg(street_view_jpg,street_img_num,street_view_results_dir)"
   ]
  },
  {
   "cell_type": "code",
   "execution_count": 6,
   "metadata": {},
   "outputs": [],
   "source": [
    "#in gandata1 we need same people so i write copy one img\n",
    "import shutil\n",
    "def rename_people_jpg(jpg_dir,img_num,results_dir):\n",
    "    count = 0\n",
    "    if len(jpg_dir) < img_num:\n",
    "        print('Your people_jpg file small than your request,so people_jpg would repeat')\n",
    "    while count < img_num:\n",
    "        for img_path in jpg_dir:\n",
    "            if count < img_num:\n",
    "                img = mpimg.imread(img_path) \n",
    "                scipy.misc.imsave(results_dir+'/'+str('{0:06}'.format(count))+'.jpg', img)\n",
    "                count+=1\n",
    "            else:\n",
    "                break"
   ]
  },
  {
   "cell_type": "code",
   "execution_count": 7,
   "metadata": {},
   "outputs": [
    {
     "name": "stderr",
     "output_type": "stream",
     "text": [
      "/opt/conda/lib/python3.6/site-packages/ipykernel_launcher.py:11: DeprecationWarning: `imsave` is deprecated!\n",
      "`imsave` is deprecated in SciPy 1.0.0, and will be removed in 1.2.0.\n",
      "Use ``imageio.imwrite`` instead.\n",
      "  # This is added back by InteractiveShellApp.init_path()\n"
     ]
    }
   ],
   "source": [
    "#rename people \n",
    "people_jpg = people_jpg\n",
    "people_img_num = street_img_num\n",
    "people_results_dir='/root/notebooks/0858611-2/final_project/pedestrian_generator/create_data/save/people'\n",
    "rename_people_jpg(people_jpg,people_img_num,people_results_dir)"
   ]
  },
  {
   "cell_type": "code",
   "execution_count": 8,
   "metadata": {},
   "outputs": [],
   "source": [
    "#it can generate json file defined by your street_jpg and people_jpg \n",
    "\n",
    "def create_json_file(jpg_dir,stickimg_dir,results_dir,function='center'):\n",
    "    if function == 'center':\n",
    "        bd_box_x,bd_box_y,bd_box_length,bd_box_height = center_location(jpg_dir,stickimg_dir)\n",
    "    elif function == 'random':\n",
    "        bd_box_x,bd_box_y,bd_box_length,bd_box_height = random_location(jpg_dir,stickimg_dir)\n",
    "  \n",
    "    data = []\n",
    "    data.append({\n",
    "    'end':0,\n",
    "    'hide':0,\n",
    "    'id':0,\n",
    "    'init':0,\n",
    "    'lbl':\"person\",\n",
    "    'lock':0,\n",
    "    'occl':0,\n",
    "    'pos':[\n",
    "    bd_box_x,\n",
    "    bd_box_y,\n",
    "    bd_box_length,\n",
    "    bd_box_height],    \n",
    "    'posv':[\n",
    "    0,\n",
    "    0,\n",
    "    0,\n",
    "    0],\n",
    "    'str':0\n",
    "                })\n",
    "    with open(results_dir+'/'+jpg_dir.split('/')[-1].split('.')[0] + '.json', 'w') as outfile:\n",
    "        json.dump(data, outfile)"
   ]
  },
  {
   "cell_type": "code",
   "execution_count": 15,
   "metadata": {},
   "outputs": [],
   "source": [
    "!rm -r /root/notebooks/0858611-2/final_project/pedestrian_generator/create_data/save/street_view/.ipynb_checkpoints\n",
    "!rm -r /root/notebooks/0858611-2/final_project/pedestrian_generator/create_data/save/people/.ipynb_checkpoints"
   ]
  },
  {
   "cell_type": "code",
   "execution_count": 10,
   "metadata": {},
   "outputs": [],
   "source": [
    "#load jpg in the folder that you have been created on above\n",
    "import os\n",
    "from PIL import Image\n",
    "\n",
    "street_view_dir = '/root/notebooks/0858611-2/final_project/pedestrian_generator/create_data/save/street_view'\n",
    "people_dir = '/root/notebooks/0858611-2/final_project/pedestrian_generator/create_data/save/people'\n",
    "results_dir = '/root/notebooks/0858611-2/final_project/pedestrian_generator/create_data/save/json'\n",
    "\n",
    "street_view_list = os.listdir(street_view_dir) \n",
    "people_list = os.listdir(people_dir) \n",
    "\n",
    "sort_steet_list_jpg  = sorted(street_view_list, key=lambda x: x[-10:-3])\n",
    "sort_people_list_jpg  = sorted(people_list, key=lambda x: x[-10:-3])\n",
    " \n",
    "for street,people in zip(sort_steet_list_jpg,sort_people_list_jpg):\n",
    "    jpg_dir = street_view_dir+'/'+street\n",
    "    stickimg_dir = people_dir+'/'+people\n",
    "    create_json_file(jpg_dir,stickimg_dir,results_dir,function='random')"
   ]
  },
  {
   "cell_type": "code",
   "execution_count": 11,
   "metadata": {},
   "outputs": [],
   "source": [
    "# !rm -r /root/notebooks/0858611-2/final_project/pedestrian_generator/create_data/save/street_view/*\n",
    "# !rm -r /root/notebooks/0858611-2/final_project/pedestrian_generator/create_data/save/people/*\n",
    "# !rm -r /root/notebooks/0858611-2/final_project/pedestrian_generator/create_data/save/json/*"
   ]
  },
  {
   "cell_type": "code",
   "execution_count": 12,
   "metadata": {},
   "outputs": [],
   "source": [
    "def creat_mask(img_path):\n",
    "    #your code \n",
    "    img = cv2.imread(img_path)\n",
    "    ###########\n",
    "    #create mask\n",
    "    ###########\n",
    "    #scipy.misc.imsave(people_path.split('/')[-1], mask)"
   ]
  },
  {
   "cell_type": "code",
   "execution_count": 16,
   "metadata": {},
   "outputs": [
    {
     "name": "stdout",
     "output_type": "stream",
     "text": [
      "000000.jpg\n",
      "000001.jpg\n",
      "000002.jpg\n",
      "000003.jpg\n",
      "000004.jpg\n",
      "000005.jpg\n",
      "000006.jpg\n",
      "000007.jpg\n",
      "000008.jpg\n",
      "000009.jpg\n",
      "000010.jpg\n"
     ]
    }
   ],
   "source": [
    "people_dir = '/root/notebooks/0858611-2/final_project/pedestrian_generator/create_data/save/people'\n",
    "mask_img_num = street_img_num\n",
    "mask_results_dir='/root/notebooks/0858611-2/final_project/pedestrian_generator/create_data/save/mask'\n",
    "\n",
    "people_list = os.listdir(people_dir) \n",
    "sort_people_list_jpg  = sorted(people_list, key=lambda x: x[-10:-3])\n",
    "\n",
    "for people_path in  sort_people_list_jpg:\n",
    "    print(people_path)\n",
    "    #creat_mask(people_jpg,mask_results_dir)"
   ]
  },
  {
   "cell_type": "code",
   "execution_count": null,
   "metadata": {},
   "outputs": [],
   "source": []
  },
  {
   "cell_type": "code",
   "execution_count": null,
   "metadata": {},
   "outputs": [],
   "source": []
  }
 ],
 "metadata": {
  "kernelspec": {
   "display_name": "Python 3",
   "language": "python",
   "name": "python3"
  },
  "language_info": {
   "codemirror_mode": {
    "name": "ipython",
    "version": 3
   },
   "file_extension": ".py",
   "mimetype": "text/x-python",
   "name": "python",
   "nbconvert_exporter": "python",
   "pygments_lexer": "ipython3",
   "version": "3.6.7"
  },
  "widgets": {
   "application/vnd.jupyter.widget-state+json": {
    "state": {},
    "version_major": 2,
    "version_minor": 0
   }
  }
 },
 "nbformat": 4,
 "nbformat_minor": 4
}
