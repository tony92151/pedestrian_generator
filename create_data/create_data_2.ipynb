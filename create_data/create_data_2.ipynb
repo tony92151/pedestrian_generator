{
 "cells": [
  {
   "cell_type": "code",
   "execution_count": 40,
   "metadata": {},
   "outputs": [],
   "source": [
    "def center_location(jpg_dir,stickimg_dir):\n",
    "    im = np.array(Image.open(jpg_dir), dtype=np.uint8)\n",
    "    x_center,y_center = im.shape[1]/2,im.shape[0]/2\n",
    "    im_stick = np.array(Image.open(stickimg_dir), dtype=np.uint8)\n",
    "    im_stick_shape = im_stick.shape\n",
    "    bd_box_x,bd_box_y = x_center-(im_stick_shape[1]/2),y_center-(im_stick_shape[0]/2)\n",
    "    bd_box_length,bd_box_height =im_stick_shape[1],im_stick_shape[0]\n",
    "    return bd_box_x,bd_box_y,bd_box_length,bd_box_height\n",
    "def random_location(jpg_dir,stickimg_dir):\n",
    "    im = np.array(Image.open(jpg_dir), dtype=np.uint8)\n",
    "    rangeX = 128\n",
    "    x_left_bound,x_right_bound = rangeX,im.shape[1]-rangeX\n",
    "    x_center = random.randrange(x_left_bound, x_right_bound)\n",
    "    seq = [350,300,250,200]\n",
    "    y_center = random.choice(seq)\n",
    "    i_shape1 = [128,64]\n",
    "    i_shape2 = [128*7/8,64*7/8]\n",
    "    i_shape3 = [128*3/4,64*3/4]\n",
    "    i_shape4 = [128*2/4,64*2/4]\n",
    "    dict = {350:i_shape1,300:i_shape2 ,250:i_shape3,200:i_shape4}\n",
    "    image_shape = dict[y_center]\n",
    "    bd_box_x,bd_box_y = x_center-(image_shape[1]/2),y_center-(image_shape[0]/2)\n",
    "    bd_box_length,bd_box_height =image_shape[1],image_shape[0]\n",
    "    return bd_box_x,bd_box_y,bd_box_length,bd_box_height"
   ]
  },
  {
   "cell_type": "code",
   "execution_count": 35,
   "metadata": {},
   "outputs": [],
   "source": [
    "def create_json_file(jpg_dir,stickimg_dir,results_dir,i,function='center'):\n",
    "    if function == 'center':\n",
    "        bd_box_x,bd_box_y,bd_box_length,bd_box_height = center_location(jpg_dir,stickimg_dir)\n",
    "    elif function == 'random':\n",
    "        bd_box_x,bd_box_y,bd_box_length,bd_box_height = random_location(jpg_dir,stickimg_dir)\n",
    "    data = []\n",
    "    data.append({\n",
    "    'end':0,\n",
    "    'hide':0,\n",
    "    'id':0,\n",
    "    'init':0,\n",
    "    'lbl':\"person\",\n",
    "    'lock':0,\n",
    "    'occl':0,\n",
    "    'pos':[\n",
    "    bd_box_x,\n",
    "    bd_box_y,\n",
    "    bd_box_length,\n",
    "    bd_box_height],    \n",
    "    'posv':[\n",
    "    0,\n",
    "    0,\n",
    "    0,\n",
    "    0],\n",
    "    'str':0\n",
    "                })\n",
    "    with open(results_dir+'/'+str('{0:06}'.format(i)) + '.json', 'w') as outfile:\n",
    "        json.dump(data, outfile)"
   ]
  },
  {
   "cell_type": "code",
   "execution_count": 36,
   "metadata": {},
   "outputs": [],
   "source": [
    "def copy_jpg(src_dir,dst_dir,name):\n",
    "    dst_dir = dst_dir +'/'+ str('{0:06}'.format(name)) +'.jpg'\n",
    "    shutil.copy(src_dir,dst_dir)"
   ]
  },
  {
   "cell_type": "code",
   "execution_count": 37,
   "metadata": {},
   "outputs": [],
   "source": [
    "import os\n",
    "from PIL import Image\n",
    "street_view_jpg_dir = os.path.dirname('/root/notebooks/0858611-2/final_project/caltech_pedestrian_extractor/video_extractor/*')\n",
    "people_jpg_dir = os.path.dirname('/root/notebooks/0858611-2/final_project/caltech_pedestrian_extractor/js_on_image/people_img/Market-1501-v15.09.15/*')\n",
    "street_view_jpg  = []\n",
    "people_jpg = []\n",
    "for dirname, _, filenames in os.walk(street_view_jpg_dir):\n",
    "    for filename in filenames:\n",
    "        if filename[-3:] == 'jpg'and filename[-14:-4]!='checkpoint':\n",
    "            street_view_jpg.append(os.path.join(dirname, filename))\n",
    "        #elif filename[-4:]== 'json' and filename[-15:-5]!='checkpoint':\n",
    "        #    json_dir.append(os.path.join(dirname, filename))\n",
    "for dirname, _, filenames in os.walk(people_jpg_dir):\n",
    "    for filename in filenames:\n",
    "        if filename[-3:] == 'jpg'and filename[-14:-4]!='checkpoint':\n",
    "            people_jpg.append(os.path.join(dirname, filename))"
   ]
  },
  {
   "cell_type": "code",
   "execution_count": 38,
   "metadata": {},
   "outputs": [],
   "source": [
    "random.shuffle(street_view_jpg)"
   ]
  },
  {
   "cell_type": "code",
   "execution_count": 44,
   "metadata": {},
   "outputs": [],
   "source": [
    "import numpy as np\n",
    "import json\n",
    "import shutil\n",
    "nums = 5000\n",
    "street_view_dst_dir = '/root/notebooks/0858611-2/final_project/caltech_pedestrian_extractor/js_on_image/gandata2/street_view'\n",
    "people_dst_dir = '/root/notebooks/0858611-2/final_project/caltech_pedestrian_extractor/js_on_image/gandata2/people'\n",
    "json_results_dir = '/root/notebooks/0858611-2/final_project/caltech_pedestrian_extractor/js_on_image/gandata2/json'\n",
    "for i in range(nums):\n",
    "    street_view = street_view_jpg[i]\n",
    "    random_people = random.choice(people_jpg)\n",
    "    create_json_file(street_view,random_people,json_results_dir,i,function='random')\n",
    "    copy_jpg(street_view,street_view_dst_dir,i)\n",
    "    copy_jpg(random_people,people_dst_dir,i)"
   ]
  },
  {
   "cell_type": "code",
   "execution_count": null,
   "metadata": {},
   "outputs": [],
   "source": []
  },
  {
   "cell_type": "code",
   "execution_count": null,
   "metadata": {},
   "outputs": [],
   "source": []
  },
  {
   "cell_type": "code",
   "execution_count": null,
   "metadata": {},
   "outputs": [],
   "source": []
  },
  {
   "cell_type": "code",
   "execution_count": null,
   "metadata": {},
   "outputs": [],
   "source": []
  }
 ],
 "metadata": {
  "kernelspec": {
   "display_name": "Python 3",
   "language": "python",
   "name": "python3"
  },
  "language_info": {
   "codemirror_mode": {
    "name": "ipython",
    "version": 3
   },
   "file_extension": ".py",
   "mimetype": "text/x-python",
   "name": "python",
   "nbconvert_exporter": "python",
   "pygments_lexer": "ipython3",
   "version": "3.6.7"
  },
  "widgets": {
   "application/vnd.jupyter.widget-state+json": {
    "state": {},
    "version_major": 2,
    "version_minor": 0
   }
  }
 },
 "nbformat": 4,
 "nbformat_minor": 4
}
