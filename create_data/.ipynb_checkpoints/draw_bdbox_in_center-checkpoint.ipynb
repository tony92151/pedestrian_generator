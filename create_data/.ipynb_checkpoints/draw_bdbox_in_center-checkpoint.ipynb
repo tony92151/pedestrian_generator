{
 "cells": [
  {
   "cell_type": "code",
   "execution_count": null,
   "metadata": {},
   "outputs": [],
   "source": [
    "import matplotlib.pyplot as plt\n",
    "import matplotlib.patches as patches\n",
    "from PIL import Image\n",
    "import numpy as np\n",
    "import json\n",
    "import os\n",
    "import random\n",
    "\n",
    "def draw_bdbox_in_center(jpg_dir,rangexy,results_dir):\n",
    "    im = np.array(Image.open(jpg_dir), dtype=np.uint8)\n",
    "    print(im.shape)\n",
    "    x = rangexy[0]\n",
    "    y = rangexy[1]\n",
    "    x_left_bound,x_right_bound = x,im.shape[1]-x\n",
    "    y_up_bound,y_low_bound = y,im.shape[0]-int(y/3)\n",
    "    x_center = random.randrange(x_left_bound, x_right_bound)\n",
    "\n",
    "\n",
    "    seq = [350,300,250,200]\n",
    "    y_center = random.choice(seq)\n",
    "    print(x_center,y_center)\n",
    "\n",
    "    i_shape1 = [64,128]\n",
    "    i_shape2 = [64*7/8,128*7/8]\n",
    "    i_shape3 = [64*3/4,128*3/4]\n",
    "    i_shape4 = [64*2/4,128*2/4]\n",
    "\n",
    "    dict = {350:i_shape1,300:i_shape2 ,250:i_shape3,200:i_shape4}\n",
    "    image_shape = dict[y_center]\n",
    "\n",
    "    fig,ax = plt.subplots(1)\n",
    "    ax.imshow(im)\n",
    "\n",
    "\n",
    "    bd_box_x,bd_box_y,bd_box_length,bd_box_height = x_center-(image_shape[0]/2),y_center-(image_shape[1]/2),image_shape[0],image_shape[1]\n",
    "    rect = patches.Rectangle((bd_box_x,bd_box_y),bd_box_length,bd_box_height,linewidth=1,edgecolor='r',facecolor='none')\n",
    "    # Add the patch to the Axes\n",
    "    ax.add_patch(rect)\n",
    "\n",
    "    plt.axis('off')\n",
    "    plt.plot()\n",
    "    extent = ax.get_window_extent().transformed(fig.dpi_scale_trans.inverted())\n",
    "    plt.savefig(results_dir +'/'+'test.jpg', bbox_inches=extent, pad_inches=0)\n",
    "    #plt.savefig(fresults_dir +'/'+jpg_dir[-10:-4]+'.png')\n",
    "    plt.cla()\n",
    "    plt.clf()\n",
    "    plt.close()"
   ]
  }
 ],
 "metadata": {
  "kernelspec": {
   "display_name": "Python 3",
   "language": "python",
   "name": "python3"
  },
  "language_info": {
   "codemirror_mode": {
    "name": "ipython",
    "version": 3
   },
   "file_extension": ".py",
   "mimetype": "text/x-python",
   "name": "python",
   "nbconvert_exporter": "python",
   "pygments_lexer": "ipython3",
   "version": "3.6.7"
  },
  "widgets": {
   "application/vnd.jupyter.widget-state+json": {
    "state": {},
    "version_major": 2,
    "version_minor": 0
   }
  }
 },
 "nbformat": 4,
 "nbformat_minor": 4
}
