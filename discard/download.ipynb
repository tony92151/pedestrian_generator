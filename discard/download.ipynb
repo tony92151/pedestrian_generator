{
 "cells": [
  {
   "cell_type": "markdown",
   "metadata": {},
   "source": [
    "# Dlownload treaining dataset\n",
    "\n",
    "Download and unzip \\\n",
    "https://drive.google.com/file/d/1YrVsXYS3qYge5wEe42cGwksSBIAjzvsL/view?usp=sharing \\\n",
    "\n",
    "assuming the absolute path is : /root/notebooks/final/caltech_origin_mask8_42000"
   ]
  },
  {
   "cell_type": "code",
   "execution_count": null,
   "metadata": {},
   "outputs": [],
   "source": []
  }
 ],
 "metadata": {
  "kernelspec": {
   "display_name": "Python 3",
   "language": "python",
   "name": "python3"
  },
  "language_info": {
   "codemirror_mode": {
    "name": "ipython",
    "version": 3
   },
   "file_extension": ".py",
   "mimetype": "text/x-python",
   "name": "python",
   "nbconvert_exporter": "python",
   "pygments_lexer": "ipython3",
   "version": "3.6.7"
  }
 },
 "nbformat": 4,
 "nbformat_minor": 4
}
