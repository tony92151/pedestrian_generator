{
 "cells": [
  {
   "cell_type": "code",
   "execution_count": 1,
   "metadata": {},
   "outputs": [],
   "source": [
    "from tqdm import tqdm\n",
    "from models import CompletionNetwork, ContextDiscriminator\n",
    "from datasets import ImageDataset\n",
    "from losses import completion_network_loss\n",
    "from utils import (\n",
    "    gen_input_mask,\n",
    "    gen_hole_area,\n",
    "    crop,\n",
    "    sample_random_batch,\n",
    "    poisson_blend,\n",
    ")\n",
    "from torch.utils.data import DataLoader\n",
    "from torch.optim import Adadelta, Adam\n",
    "from torch.nn import BCELoss, DataParallel\n",
    "from torchvision.utils import save_image\n",
    "from PIL import Image\n",
    "import torchvision.transforms as transforms\n",
    "import torch\n",
    "import random\n",
    "import os\n",
    "import argparse\n",
    "import numpy as np\n",
    "import json\n",
    "import time"
   ]
  },
  {
   "cell_type": "code",
   "execution_count": 6,
   "metadata": {},
   "outputs": [],
   "source": [
    "data_path = \"/home/guest2/gandata1\""
   ]
  },
  {
   "cell_type": "code",
   "execution_count": 3,
   "metadata": {},
   "outputs": [
    {
     "data": {
      "text/plain": [
       "_StoreAction(option_strings=['--arc'], dest='arc', nargs=None, const=None, default='celeba', type=<class 'str'>, choices=['celeba', 'places2'], help=None, metavar=None)"
      ]
     },
     "execution_count": 3,
     "metadata": {},
     "output_type": "execute_result"
    }
   ],
   "source": [
    "parser = argparse.ArgumentParser()\n",
    "parser.add_argument('data_dir')\n",
    "parser.add_argument('result_dir')\n",
    "parser.add_argument('--recursive_search', action='store_true', default=False)\n",
    "parser.add_argument('--init_model_cn', type=str, default=None)\n",
    "parser.add_argument('--init_model_cd', type=str, default=None)\n",
    "parser.add_argument('--steps_1', type=int, default=100)\n",
    "parser.add_argument('--steps_2', type=int, default=100)\n",
    "parser.add_argument('--steps_3', type=int, default=100)\n",
    "parser.add_argument('--snaperiod_1', type=int, default=10000)\n",
    "parser.add_argument('--snaperiod_2', type=int, default=2000)\n",
    "parser.add_argument('--snaperiod_3', type=int, default=10000)\n",
    "parser.add_argument('--max_holes', type=int, default=1)\n",
    "parser.add_argument('--hole_min_w', type=int, default=48)\n",
    "parser.add_argument('--hole_max_w', type=int, default=96)\n",
    "parser.add_argument('--hole_min_h', type=int, default=48)\n",
    "parser.add_argument('--hole_max_h', type=int, default=96)\n",
    "parser.add_argument('--cn_input_size', type=int, default=160)\n",
    "parser.add_argument('--ld_input_size', type=int, default=96)\n",
    "parser.add_argument('--optimizer', type=str, choices=['adadelta', 'adam'], default='adadelta')\n",
    "parser.add_argument('--bsize', type=int, default=16)\n",
    "parser.add_argument('--bdivs', type=int, default=1)\n",
    "parser.add_argument('--data_parallel', action='store_true')\n",
    "parser.add_argument('--num_test_completions', type=int, default=16)\n",
    "parser.add_argument('--mpv', nargs=3, type=float, default=None)\n",
    "parser.add_argument('--alpha', type=float, default=4e-4)\n",
    "parser.add_argument('--arc', type=str, choices=['celeba', 'places2'], default='celeba')"
   ]
  },
  {
   "cell_type": "code",
   "execution_count": 5,
   "metadata": {},
   "outputs": [
    {
     "name": "stderr",
     "output_type": "stream",
     "text": [
      "usage: ipykernel_launcher.py [-h] [--recursive_search]\n",
      "                             [--init_model_cn INIT_MODEL_CN]\n",
      "                             [--init_model_cd INIT_MODEL_CD]\n",
      "                             [--steps_1 STEPS_1] [--steps_2 STEPS_2]\n",
      "                             [--steps_3 STEPS_3] [--snaperiod_1 SNAPERIOD_1]\n",
      "                             [--snaperiod_2 SNAPERIOD_2]\n",
      "                             [--snaperiod_3 SNAPERIOD_3]\n",
      "                             [--max_holes MAX_HOLES] [--hole_min_w HOLE_MIN_W]\n",
      "                             [--hole_max_w HOLE_MAX_W]\n",
      "                             [--hole_min_h HOLE_MIN_H]\n",
      "                             [--hole_max_h HOLE_MAX_H]\n",
      "                             [--cn_input_size CN_INPUT_SIZE]\n",
      "                             [--ld_input_size LD_INPUT_SIZE]\n",
      "                             [--optimizer {adadelta,adam}] [--bsize BSIZE]\n",
      "                             [--bdivs BDIVS] [--data_parallel]\n",
      "                             [--num_test_completions NUM_TEST_COMPLETIONS]\n",
      "                             [--mpv MPV MPV MPV] [--alpha ALPHA]\n",
      "                             [--arc {celeba,places2}]\n",
      "                             data_dir result_dir\n",
      "ipykernel_launcher.py: error: the following arguments are required: result_dir\n"
     ]
    },
    {
     "ename": "SystemExit",
     "evalue": "2",
     "output_type": "error",
     "traceback": [
      "An exception has occurred, use %tb to see the full traceback.\n",
      "\u001b[0;31mSystemExit\u001b[0m\u001b[0;31m:\u001b[0m 2\n"
     ]
    },
    {
     "name": "stderr",
     "output_type": "stream",
     "text": [
      "/home/guest2/.local/lib/python3.6/site-packages/IPython/core/interactiveshell.py:3339: UserWarning: To exit: use 'exit', 'quit', or Ctrl-D.\n",
      "  warn(\"To exit: use 'exit', 'quit', or Ctrl-D.\", stacklevel=1)\n"
     ]
    }
   ],
   "source": [
    "args = parser.parse_args()"
   ]
  },
  {
   "cell_type": "code",
   "execution_count": 4,
   "metadata": {},
   "outputs": [
    {
     "ename": "NameError",
     "evalue": "name 'args' is not defined",
     "output_type": "error",
     "traceback": [
      "\u001b[0;31m---------------------------------------------------------------------------\u001b[0m",
      "\u001b[0;31mNameError\u001b[0m                                 Traceback (most recent call last)",
      "\u001b[0;32m<ipython-input-4-c76cc7fcebf5>\u001b[0m in \u001b[0;36m<module>\u001b[0;34m\u001b[0m\n\u001b[1;32m      2\u001b[0m \u001b[0;31m# Preparation\u001b[0m\u001b[0;34m\u001b[0m\u001b[0;34m\u001b[0m\u001b[0;34m\u001b[0m\u001b[0m\n\u001b[1;32m      3\u001b[0m \u001b[0;31m# ================================================\u001b[0m\u001b[0;34m\u001b[0m\u001b[0;34m\u001b[0m\u001b[0;34m\u001b[0m\u001b[0m\n\u001b[0;32m----> 4\u001b[0;31m \u001b[0margs\u001b[0m\u001b[0;34m.\u001b[0m\u001b[0mdata_dir\u001b[0m \u001b[0;34m=\u001b[0m \u001b[0mos\u001b[0m\u001b[0;34m.\u001b[0m\u001b[0mpath\u001b[0m\u001b[0;34m.\u001b[0m\u001b[0mexpanduser\u001b[0m\u001b[0;34m(\u001b[0m\u001b[0margs\u001b[0m\u001b[0;34m.\u001b[0m\u001b[0mdata_dir\u001b[0m\u001b[0;34m)\u001b[0m\u001b[0;34m\u001b[0m\u001b[0;34m\u001b[0m\u001b[0m\n\u001b[0m\u001b[1;32m      5\u001b[0m \u001b[0margs\u001b[0m\u001b[0;34m.\u001b[0m\u001b[0mresult_dir\u001b[0m \u001b[0;34m=\u001b[0m \u001b[0mos\u001b[0m\u001b[0;34m.\u001b[0m\u001b[0mpath\u001b[0m\u001b[0;34m.\u001b[0m\u001b[0mexpanduser\u001b[0m\u001b[0;34m(\u001b[0m\u001b[0margs\u001b[0m\u001b[0;34m.\u001b[0m\u001b[0mresult_dir\u001b[0m\u001b[0;34m)\u001b[0m\u001b[0;34m\u001b[0m\u001b[0;34m\u001b[0m\u001b[0m\n\u001b[1;32m      6\u001b[0m \u001b[0;32mif\u001b[0m \u001b[0margs\u001b[0m\u001b[0;34m.\u001b[0m\u001b[0minit_model_cn\u001b[0m \u001b[0;34m!=\u001b[0m \u001b[0;32mNone\u001b[0m\u001b[0;34m:\u001b[0m\u001b[0;34m\u001b[0m\u001b[0;34m\u001b[0m\u001b[0m\n",
      "\u001b[0;31mNameError\u001b[0m: name 'args' is not defined"
     ]
    }
   ],
   "source": [
    "# ================================================\n",
    "# Preparation\n",
    "# ================================================\n",
    "args.data_dir = os.path.expanduser(args.data_dir)\n",
    "args.result_dir = os.path.expanduser(args.result_dir)\n",
    "if args.init_model_cn != None:\n",
    "    args.init_model_cn = os.path.expanduser(args.init_model_cn)\n",
    "if args.init_model_cd != None:\n",
    "    args.init_model_cd = os.path.expanduser(args.init_model_cd)\n",
    "if torch.cuda.is_available() == False:\n",
    "    raise Exception('At least one gpu must be available.')\n",
    "else:\n",
    "    gpu = torch.device('cuda:0')\n",
    "\n",
    "# create result directory (if necessary)\n",
    "if os.path.exists(args.result_dir) == False:\n",
    "    os.makedirs(args.result_dir)\n",
    "for s in ['phase_1', 'phase_2', 'phase_3']:\n",
    "    if os.path.exists(os.path.join(args.result_dir, s)) == False:\n",
    "        os.makedirs(os.path.join(args.result_dir, s))\n"
   ]
  },
  {
   "cell_type": "code",
   "execution_count": null,
   "metadata": {},
   "outputs": [],
   "source": []
  }
 ],
 "metadata": {
  "kernelspec": {
   "display_name": "torch",
   "language": "python",
   "name": "torch"
  },
  "language_info": {
   "codemirror_mode": {
    "name": "ipython",
    "version": 3
   },
   "file_extension": ".py",
   "mimetype": "text/x-python",
   "name": "python",
   "nbconvert_exporter": "python",
   "pygments_lexer": "ipython3",
   "version": "3.6.9"
  }
 },
 "nbformat": 4,
 "nbformat_minor": 4
}
