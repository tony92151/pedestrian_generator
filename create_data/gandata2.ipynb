{
 "cells": [
  {
   "cell_type": "code",
   "execution_count": 1,
   "metadata": {},
   "outputs": [],
   "source": [
    "import matplotlib.pyplot as plt\n",
    "import matplotlib.patches as patches\n",
    "from PIL import Image\n",
    "import numpy as np\n",
    "import json\n",
    "import os\n",
    "import random\n",
    "#you should modify the code to match what your request\n",
    "\n",
    "#In <get the street_view_jpg people_jpg list >\n",
    "# 1.street_view_jpg_dir(it can be the parent folder to load many jpg)\n",
    "# 2.people_jpg_dir(it can be the parent folder to load many jpg)\n",
    "\n",
    "#In <copy img (copy img from source folder) >\n",
    "# 3.street_img_num (how many picture you want)\n",
    "# 4.results_dir    (save your image)\n",
    "\n",
    "#In <copy people>\n",
    "# 5.people_img_num(how many picture you want)\n",
    "# 6.people_src_dir(it would be one picture)\n",
    "# 7.people_dst_dir(it would be one folder)\n",
    "\n",
    "#In <load jpg in the folder that you have been created on abovee>\n",
    "#8.street_view_dir(it would be 4.<results_dir>)\n",
    "#9.people_dir     (it would be 7.<people_dst_dir>)\n",
    "#10.results_dir    (it would be one folder)"
   ]
  },
  {
   "cell_type": "code",
   "execution_count": 2,
   "metadata": {},
   "outputs": [],
   "source": [
    "\n",
    "# to get location that stickimg will sticked on jpg_dir center or random\n",
    "def center_location(jpg_dir,stickimg_dir):\n",
    "    im = np.array(Image.open(jpg_dir), dtype=np.uint8)\n",
    "    x_center,y_center = im.shape[1]/2,im.shape[0]/2\n",
    "    im_stick = np.array(Image.open(stickimg_dir), dtype=np.uint8)\n",
    "    im_stick_shape = im_stick.shape\n",
    "    bd_box_x,bd_box_y = x_center-(im_stick_shape[1]/2),y_center-(im_stick_shape[0]/2)\n",
    "    bd_box_length,bd_box_height =im_stick_shape[1],im_stick_shape[0]\n",
    "    return bd_box_x,bd_box_y,bd_box_length,bd_box_height\n",
    "def random_location(jpg_dir,stickimg_dir):\n",
    "    im = np.array(Image.open(jpg_dir), dtype=np.uint8)\n",
    "    rangeX = 128\n",
    "    x_left_bound,x_right_bound = rangeX,im.shape[1]-rangeX\n",
    "    x_center = random.randrange(x_left_bound, x_right_bound)\n",
    "    seq = [350,300,250,200]\n",
    "    y_center = random.choice(seq)\n",
    "    i_shape1 = [128,64]\n",
    "    i_shape2 = [128*7/8,64*7/8]\n",
    "    i_shape3 = [128*3/4,64*3/4]\n",
    "    i_shape4 = [128*2/4,64*2/4]\n",
    "    dict = {350:i_shape1,300:i_shape2 ,250:i_shape3,200:i_shape4}\n",
    "    image_shape = dict[y_center]\n",
    "    bd_box_x,bd_box_y = x_center-(image_shape[1]/2),y_center-(image_shape[0]/2)\n",
    "    bd_box_length,bd_box_height =image_shape[1],image_shape[0]\n",
    "    return bd_box_x,bd_box_y,bd_box_length,bd_box_height"
   ]
  },
  {
   "cell_type": "code",
   "execution_count": 3,
   "metadata": {},
   "outputs": [],
   "source": [
    "#rename your jpg and save to your results_dir the file name is 000001.jpg ~ <nums>.jpg\n",
    "#the flowwing code can plt the img if you command the plt.cla(), plt.clf() ,plt.close()\n",
    "import matplotlib.pyplot as plt\n",
    "import matplotlib.image as mpimg\n",
    "\n",
    "def rename_jpg(jpg_dir,img_num,results_dir):\n",
    "    if len(jpg_dir) < img_num:\n",
    "        print('Your jpg file small than your request')\n",
    "    else:\n",
    "        for i in range(img_num):     \n",
    "            img = mpimg.imread(jpg_dir[i]) \n",
    "            plt.imshow(img)\n",
    "            fig = plt.figure(1)\n",
    "            ax=fig.add_subplot(1,1,1)\n",
    "            plt.gca().set_axis_off()\n",
    "            plt.subplots_adjust(top = 1, bottom = 0, right = 1, left = 0,hspace = 0, wspace = 0)\n",
    "            plt.margins(0,0)\n",
    "            plt.gca().xaxis.set_major_locator(plt.NullLocator())\n",
    "            plt.gca().yaxis.set_major_locator(plt.NullLocator())\n",
    "            plt.savefig(results_dir+'/'+str('{0:06}'.format(i))+'.jpg', bbox_inches='tight', pad_inches=0)\n",
    "            plt.cla()\n",
    "            plt.clf()\n",
    "            plt.close()"
   ]
  },
  {
   "cell_type": "code",
   "execution_count": 4,
   "metadata": {},
   "outputs": [],
   "source": [
    "#get the street_view_jpg people_jpg list \n",
    "import os\n",
    "from PIL import Image\n",
    "street_view_jpg_dir = os.path.dirname('/root/notebooks/0858611-2/final_project/caltech_pedestrian_extractor/video_extractor/*')\n",
    "people_jpg_dir = os.path.dirname('/root/notebooks/0858611-2/final_project/caltech_pedestrian_extractor/js_on_image/people_img/Market-1501-v15.09.15/*')\n",
    "street_view_jpg  = []\n",
    "people_jpg = []\n",
    "for dirname, _, filenames in os.walk(street_view_jpg_dir):\n",
    "    for filename in filenames:\n",
    "        if filename[-3:] == 'jpg'and filename[-14:-4]!='checkpoint':\n",
    "            street_view_jpg.append(os.path.join(dirname, filename))\n",
    "        #elif filename[-4:]== 'json' and filename[-15:-5]!='checkpoint':\n",
    "        #    json_dir.append(os.path.join(dirname, filename))\n",
    "for dirname, _, filenames in os.walk(people_jpg_dir):\n",
    "    for filename in filenames:\n",
    "        if filename[-3:] == 'jpg'and filename[-14:-4]!='checkpoint':\n",
    "            people_jpg.append(os.path.join(dirname, filename))\n",
    "\n",
    "            \n",
    "random.shuffle(street_view_jpg)"
   ]
  },
  {
   "cell_type": "code",
   "execution_count": 5,
   "metadata": {},
   "outputs": [
    {
     "name": "stderr",
     "output_type": "stream",
     "text": [
      "/opt/conda/lib/python3.6/site-packages/matplotlib/figure.py:98: MatplotlibDeprecationWarning: \n",
      "Adding an axes using the same arguments as a previous axes currently reuses the earlier instance.  In a future version, a new instance will always be created and returned.  Meanwhile, this warning can be suppressed, and the future behavior ensured, by passing a unique label to each axes instance.\n",
      "  \"Adding an axes using the same arguments as a previous axes \"\n"
     ]
    }
   ],
   "source": [
    "#copy img (copy img from source folder)\n",
    "jpg_dir = street_view_jpg\n",
    "street_img_num = 20000\n",
    "results_dir = '/root/notebooks/0858611-2/final_project/caltech_pedestrian_extractor/js_on_image/gandata2v2/street_view'\n",
    "rename_jpg(jpg_dir,street_img_num,results_dir)"
   ]
  },
  {
   "cell_type": "code",
   "execution_count": 9,
   "metadata": {},
   "outputs": [],
   "source": [
    "#in gandata1 we need same people so i write copy one img\n",
    "import shutil\n",
    "def copy_people(src_dir,dst_dir,name):\n",
    "    dst_dir = dst_dir +'/'+ str('{0:06}'.format(name)) +'.jpg'\n",
    "    shutil.copy(src_dir,dst_dir)"
   ]
  },
  {
   "cell_type": "code",
   "execution_count": 10,
   "metadata": {},
   "outputs": [],
   "source": [
    "#copy people \n",
    "people_img_num = 20000\n",
    "people_src_dir='/root/notebooks/0858611-2/final_project/caltech_pedestrian_extractor/js_on_image/people.jpg'\n",
    "people_dst_dir='/root/notebooks/0858611-2/final_project/caltech_pedestrian_extractor/js_on_image/gandata2v2/people'\n",
    "for i in range(people_img_num):\n",
    "    copy_people(people_src_dir,people_dst_dir,i)"
   ]
  },
  {
   "cell_type": "code",
   "execution_count": 18,
   "metadata": {},
   "outputs": [],
   "source": [
    "#it can generate json file defined by your street_jpg and people_jpg \n",
    "\n",
    "def create_json_file(jpg_dir,stickimg_dir,results_dir,function='center'):\n",
    "    if function == 'center':\n",
    "        bd_box_x,bd_box_y,bd_box_length,bd_box_height = center_location(jpg_dir,stickimg_dir)\n",
    "    elif function == 'random':\n",
    "        bd_box_x,bd_box_y,bd_box_length,bd_box_height = random_location(jpg_dir,stickimg_dir)\n",
    "  \n",
    "    data = []\n",
    "    data.append({\n",
    "    'end':0,\n",
    "    'hide':0,\n",
    "    'id':0,\n",
    "    'init':0,\n",
    "    'lbl':\"person\",\n",
    "    'lock':0,\n",
    "    'occl':0,\n",
    "    'pos':[\n",
    "    bd_box_x,\n",
    "    bd_box_y,\n",
    "    bd_box_length,\n",
    "    bd_box_height],    \n",
    "    'posv':[\n",
    "    0,\n",
    "    0,\n",
    "    0,\n",
    "    0],\n",
    "    'str':0\n",
    "                })\n",
    "    with open(results_dir+'/'+jpg_dir.split('/')[-1].split('.')[0] + '.json', 'w') as outfile:\n",
    "        json.dump(data, outfile)"
   ]
  },
  {
   "cell_type": "code",
   "execution_count": null,
   "metadata": {},
   "outputs": [],
   "source": [
    "#load jpg in the folder that you have been created on above\n",
    "import os\n",
    "from PIL import Image\n",
    "\n",
    "street_view_dir = '/root/notebooks/0858611-2/final_project/caltech_pedestrian_extractor/js_on_image/gandata2v2/street_view'\n",
    "people_dir = '/root/notebooks/0858611-2/final_project/caltech_pedestrian_extractor/js_on_image/gandata2v2/people'\n",
    "results_dir = '/root/notebooks/0858611-2/final_project/caltech_pedestrian_extractor/js_on_image/gandata2v2/json'\n",
    "\n",
    "street_view_list = os.listdir(street_view_dir) \n",
    "people_list = os.listdir(people_dir) \n",
    "\n",
    "sort_steet_list_jpg  = sorted(street_view_list, key=lambda x: x[-10:-3])\n",
    "sort_people_list_jpg  = sorted(people_list, key=lambda x: x[-10:-3])\n",
    "\n",
    "for street,people in zip(sort_steet_list_jpg,sort_people_list_jpg):\n",
    "    jpg_dir = street_view_dir+'/'+street\n",
    "    stickimg_dir = people_dir+'/'+people\n",
    "    create_json_file(jpg_dir,stickimg_dir,results_dir,function='random')"
   ]
  },
  {
   "cell_type": "code",
   "execution_count": null,
   "metadata": {},
   "outputs": [],
   "source": []
  }
 ],
 "metadata": {
  "kernelspec": {
   "display_name": "Python 3",
   "language": "python",
   "name": "python3"
  },
  "language_info": {
   "codemirror_mode": {
    "name": "ipython",
    "version": 3
   },
   "file_extension": ".py",
   "mimetype": "text/x-python",
   "name": "python",
   "nbconvert_exporter": "python",
   "pygments_lexer": "ipython3",
   "version": "3.6.7"
  },
  "widgets": {
   "application/vnd.jupyter.widget-state+json": {
    "state": {},
    "version_major": 2,
    "version_minor": 0
   }
  }
 },
 "nbformat": 4,
 "nbformat_minor": 4
}
