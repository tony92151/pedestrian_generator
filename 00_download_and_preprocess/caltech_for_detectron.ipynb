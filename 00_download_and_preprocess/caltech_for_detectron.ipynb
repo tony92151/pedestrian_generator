{
 "cells": [
  {
   "cell_type": "code",
   "execution_count": 1,
   "metadata": {},
   "outputs": [],
   "source": [
    "import matplotlib.pyplot as plt\n",
    "from PIL import Image\n",
    "import numpy as np\n",
    "import json\n",
    "import os\n",
    "import random\n",
    "import glob\n",
    "# from detectron_pro import detectron_mask_img,detectron_mask_img_composite\n",
    "import shutil\n",
    "import cv2\n",
    "\n",
    "import random\n",
    "from tqdm import tqdm"
   ]
  },
  {
   "cell_type": "code",
   "execution_count": 2,
   "metadata": {},
   "outputs": [],
   "source": [
    "\n",
    "# to get location that stickimg will sticked on jpg_dir center or random\n",
    "def center_location(jpg_dir,stickimg_dir):\n",
    "    im = np.array(Image.open(jpg_dir), dtype=np.uint8)\n",
    "    x_center,y_center = im.shape[1]/2,im.shape[0]/2\n",
    "    im_stick = np.array(Image.open(stickimg_dir), dtype=np.uint8)\n",
    "    im_stick_shape = im_stick.shape\n",
    "    bd_box_x,bd_box_y = x_center-(im_stick_shape[1]/2),y_center-(im_stick_shape[0]/2)\n",
    "    bd_box_length,bd_box_height =im_stick_shape[1],im_stick_shape[0]\n",
    "    return bd_box_x,bd_box_y,bd_box_length,bd_box_height\n",
    "\n",
    "def random_location(jpg_dir,stickimg_dir):\n",
    "    im = np.array(Image.open(jpg_dir), dtype=np.uint8)\n",
    "    # x boundary\n",
    "    #rangeX = 400\n",
    "    #x_left_bound,x_right_bound = rangeX, im.shape[1]-rangeX\n",
    "    x_left_bound,x_right_bound = 128,512\n",
    "    x_center = random.randrange(x_left_bound, x_right_bound)\n",
    "    seq = [320,280,240,220,200]\n",
    "    y_center = random.choice(seq)\n",
    "    i_shape1 = [240,120]\n",
    "    i_shape2 = [160,80]\n",
    "    i_shape3 = [128,64]\n",
    "    i_shape4 = [108,54]\n",
    "    i_shape5 = [96,48]\n",
    "    dict = {352:i_shape1,296:i_shape2 ,240:i_shape3,220:i_shape4,200:i_shape5}\n",
    "    image_shape = dict[y_center]\n",
    "    bd_box_x,bd_box_y = x_center-(image_shape[1]/2),y_center-(image_shape[0]/2)\n",
    "    bd_box_length,bd_box_height =image_shape[1],image_shape[0]\n",
    "    return bd_box_x,bd_box_y,bd_box_length,bd_box_height\n",
    "\n",
    "\n",
    "#h_list = [200,220,240,296,352] # from top to buttom (center of people image)\n",
    "#h_scale = [(48,96),(54,108),(64,128),(80,160),(120,240)] # top might be smaller"
   ]
  },
  {
   "cell_type": "code",
   "execution_count": 3,
   "metadata": {},
   "outputs": [],
   "source": [
    "#it can generate json file defined by your street_jpg and people_jpg \n",
    "\n",
    "def create_json_file(jpg_dir,street_json,stickimg_dir,results_dir,function='center'):\n",
    "    if function == 'center':\n",
    "        bd_box_x,bd_box_y,bd_box_length,bd_box_height = center_location(jpg_dir,stickimg_dir)\n",
    "    elif function == 'random':\n",
    "        bd_box_x,bd_box_y,bd_box_length,bd_box_height = random_location(jpg_dir,stickimg_dir)\n",
    "        \n",
    "    input_file = open (street_json)\n",
    "    json_array = json.load(input_file)\n",
    "    \n",
    "    data = []\n",
    "    data.append({\n",
    "    'end':0,\n",
    "    'hide':0,\n",
    "    'id':0,\n",
    "    'init':0,\n",
    "    'lbl':\"pasted_person\",\n",
    "    'lock':0,\n",
    "    'occl':0,\n",
    "    'pos':[\n",
    "    bd_box_x,\n",
    "    bd_box_y,\n",
    "    bd_box_length,\n",
    "    bd_box_height],    \n",
    "    'posv':[\n",
    "    0,\n",
    "    0,\n",
    "    0,\n",
    "    0],\n",
    "    'str':0\n",
    "                })\n",
    "    \n",
    "    if json_array != []:\n",
    "        for item in json_array:\n",
    "            data.append(item)\n",
    "            \n",
    "    with open(results_dir, 'w') as outfile:\n",
    "        json.dump(data, outfile)"
   ]
  },
  {
   "cell_type": "markdown",
   "metadata": {},
   "source": [
    "# Start create"
   ]
  },
  {
   "cell_type": "code",
   "execution_count": 4,
   "metadata": {},
   "outputs": [],
   "source": [
    "origin_data_dir = '/root/notebooks/final/caltech_conver_data'"
   ]
  },
  {
   "cell_type": "code",
   "execution_count": 5,
   "metadata": {},
   "outputs": [],
   "source": [
    "img_data = glob.glob(origin_data_dir+'/**/*.jpg', recursive=True)\n",
    "\n",
    "# json_data = glob.glob(origin_data_dir+'/**/*.json', recursive=True)"
   ]
  },
  {
   "cell_type": "code",
   "execution_count": 6,
   "metadata": {},
   "outputs": [
    {
     "data": {
      "text/plain": [
       "['/root/notebooks/final/caltech_conver_data/set01/V000/images/I00103.jpg',\n",
       " '/root/notebooks/final/caltech_conver_data/set01/V000/images/I00199.jpg',\n",
       " '/root/notebooks/final/caltech_conver_data/set01/V000/images/I00229.jpg',\n",
       " '/root/notebooks/final/caltech_conver_data/set01/V000/images/I00255.jpg',\n",
       " '/root/notebooks/final/caltech_conver_data/set01/V000/images/I00268.jpg',\n",
       " '/root/notebooks/final/caltech_conver_data/set01/V000/images/I00512.jpg',\n",
       " '/root/notebooks/final/caltech_conver_data/set01/V000/images/I00562.jpg',\n",
       " '/root/notebooks/final/caltech_conver_data/set01/V000/images/I00780.jpg',\n",
       " '/root/notebooks/final/caltech_conver_data/set01/V000/images/I00782.jpg',\n",
       " '/root/notebooks/final/caltech_conver_data/set01/V000/images/I00947.jpg']"
      ]
     },
     "execution_count": 6,
     "metadata": {},
     "output_type": "execute_result"
    }
   ],
   "source": [
    "img_data[:10]"
   ]
  },
  {
   "cell_type": "code",
   "execution_count": 7,
   "metadata": {},
   "outputs": [],
   "source": [
    "# json_data[:10]"
   ]
  },
  {
   "cell_type": "code",
   "execution_count": 8,
   "metadata": {},
   "outputs": [],
   "source": [
    "# Image read dir\n",
    "street_dir = '/root/notebooks/0858611-2/final_project/caltech_pedestrian_extractor/video_extractor/*'\n",
    "\n",
    "# Image save dir\n",
    "save_dir = '/root/notebooks/final/result_dataset_9'\n",
    "\n",
    "# num_imgs = 10000\n",
    "num_imgs = 'all'"
   ]
  },
  {
   "cell_type": "code",
   "execution_count": 9,
   "metadata": {},
   "outputs": [],
   "source": [
    "# Check dir folder exit\n",
    "# If not, create one\n",
    "if os.path.exists(save_dir) == False:\n",
    "    os.makedirs(save_dir)\n",
    "\n",
    "for s in ['street', 'street_json']:\n",
    "    if os.path.exists(os.path.join(save_dir, s)) == False:\n",
    "        os.makedirs(os.path.join(save_dir, s))"
   ]
  },
  {
   "cell_type": "code",
   "execution_count": 10,
   "metadata": {},
   "outputs": [],
   "source": [
    "#street_imgs = glob.glob(street_dir+'/**/*.jpg', recursive=True)\n",
    "street_imgs = img_data\n",
    "\n",
    "#street_imgs = random.shuffle(random.sample(street_imgs, 5000))\n",
    "if num_imgs not in 'all':\n",
    "    street_imgs = random.sample(street_imgs, num_imgs)\n",
    "\n",
    "random.shuffle(street_imgs)"
   ]
  },
  {
   "cell_type": "code",
   "execution_count": 11,
   "metadata": {},
   "outputs": [],
   "source": [
    "street_img_refined = []\n",
    "# street_json_refined = []"
   ]
  },
  {
   "cell_type": "code",
   "execution_count": 12,
   "metadata": {},
   "outputs": [
    {
     "data": {
      "text/plain": [
       "224191"
      ]
     },
     "execution_count": 12,
     "metadata": {},
     "output_type": "execute_result"
    }
   ],
   "source": [
    "len(street_imgs)"
   ]
  },
  {
   "cell_type": "code",
   "execution_count": 13,
   "metadata": {},
   "outputs": [
    {
     "name": "stderr",
     "output_type": "stream",
     "text": [
      "100%|██████████| 224191/224191 [10:18<00:00, 362.43it/s]\n"
     ]
    }
   ],
   "source": [
    "pbar = tqdm(total=len(street_imgs))\n",
    "for i in range(len(street_imgs)):\n",
    "    \n",
    "    #if (i%500==0):\n",
    "        #print(\"Process (\",i,\"/\",len(street_imgs),\")  \",\"{:.2f}\".format(100*i/len(street_imgs)),\" %\")\n",
    "    pbar.update()\n",
    "        \n",
    "    img_path = street_imgs[i]\n",
    "    json_dir = img_path.replace('images', 'annotations')\n",
    "    json_dir = json_dir.replace('jpg', 'json')\n",
    "    \n",
    "    input_file = open (json_dir)\n",
    "    json_array = json.load(input_file)\n",
    "    #if json_array != []:\n",
    "    if json_array == []:\n",
    "        street_img_refined.append(street_imgs[i])\n",
    "    \n",
    "    input_file.close()\n",
    "pbar.close()"
   ]
  },
  {
   "cell_type": "code",
   "execution_count": 14,
   "metadata": {},
   "outputs": [
    {
     "data": {
      "text/plain": [
       "113278"
      ]
     },
     "execution_count": 14,
     "metadata": {},
     "output_type": "execute_result"
    }
   ],
   "source": [
    "len(street_img_refined)"
   ]
  },
  {
   "cell_type": "code",
   "execution_count": 15,
   "metadata": {},
   "outputs": [
    {
     "name": "stderr",
     "output_type": "stream",
     "text": [
      "100%|██████████| 113278/113278 [43:12<00:00, 43.70it/s] \n"
     ]
    }
   ],
   "source": [
    "pbar = tqdm(total=len(street_img_refined))\n",
    "for i in range(len(street_img_refined)):\n",
    "    pbar.update()\n",
    "    \n",
    "    img_path = street_img_refined[i]\n",
    "    json_dir = img_path.replace('images', 'annotations')\n",
    "    json_dir = json_dir.replace('jpg', 'json')\n",
    "    \n",
    "    shutil.copyfile(json_dir, save_dir+'/street_json/'+str('{0:06}'.format(i))+'.json')\n",
    "    shutil.copyfile(img_path, save_dir+'/street/'+str('{0:06}'.format(i))+'.jpg')\n",
    "    \n",
    "pbar.close()"
   ]
  },
  {
   "cell_type": "code",
   "execution_count": null,
   "metadata": {},
   "outputs": [],
   "source": []
  },
  {
   "cell_type": "code",
   "execution_count": null,
   "metadata": {},
   "outputs": [],
   "source": []
  }
 ],
 "metadata": {
  "kernelspec": {
   "display_name": "Python 3",
   "language": "python",
   "name": "python3"
  },
  "language_info": {
   "codemirror_mode": {
    "name": "ipython",
    "version": 3
   },
   "file_extension": ".py",
   "mimetype": "text/x-python",
   "name": "python",
   "nbconvert_exporter": "python",
   "pygments_lexer": "ipython3",
   "version": "3.6.7"
  },
  "widgets": {
   "application/vnd.jupyter.widget-state+json": {
    "state": {},
    "version_major": 2,
    "version_minor": 0
   }
  }
 },
 "nbformat": 4,
 "nbformat_minor": 4
}
